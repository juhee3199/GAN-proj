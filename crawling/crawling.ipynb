{
  "nbformat": 4,
  "nbformat_minor": 0,
  "metadata": {
    "kernelspec": {
      "display_name": "Python 3",
      "language": "python",
      "name": "python3"
    },
    "language_info": {
      "codemirror_mode": {
        "name": "ipython",
        "version": 3
      },
      "file_extension": ".py",
      "mimetype": "text/x-python",
      "name": "python",
      "nbconvert_exporter": "python",
      "pygments_lexer": "ipython3",
      "version": "3.7.6"
    },
    "colab": {
      "name": "crawling_ipynb의_사본.ipynb",
      "provenance": [],
      "collapsed_sections": [],
      "toc_visible": true,
      "include_colab_link": true
    }
  },
  "cells": [
    {
      "cell_type": "markdown",
      "metadata": {
        "id": "view-in-github",
        "colab_type": "text"
      },
      "source": [
        "<a href=\"https://colab.research.google.com/github/juhee3199/GAN-proj/blob/main/crawling/crawling.ipynb\" target=\"_parent\"><img src=\"https://colab.research.google.com/assets/colab-badge.svg\" alt=\"Open In Colab\"/></a>"
      ]
    },
    {
      "cell_type": "markdown",
      "metadata": {
        "id": "hDUh64Ht1zPr"
      },
      "source": [
        "### 최종 크롤링 코드\r\n",
        "\r\n",
        "- 첫번째 for문: 1~51page까지 차례로 돌면서, 각 페이지url들어가서 html파싱\r\n",
        "- 두번째 for문: 한 페이지에 24개의 content가 있음. 각 페이지의 content url들어가서 이미지 태그 저장"
      ]
    },
    {
      "cell_type": "code",
      "metadata": {
        "id": "nYq2BeTw1zPx"
      },
      "source": [
        "import os\n",
        "import urllib\n",
        "import requests\n",
        "from bs4 import BeautifulSoup"
      ],
      "execution_count": null,
      "outputs": []
    },
    {
      "cell_type": "code",
      "metadata": {
        "id": "tHaKezMx1zPy"
      },
      "source": [
        "url = 'https://opengameart.org/art-search-advanced?keys=background&title=&field_art_tags_tid_op=or&field_art_tags_tid=&name=&field_art_type_tid%5B%5D=9&field_art_licenses_tid%5B%5D=17981&field_art_licenses_tid%5B%5D=2&field_art_licenses_tid%5B%5D=17982&field_art_licenses_tid%5B%5D=3&field_art_licenses_tid%5B%5D=6&field_art_licenses_tid%5B%5D=5&field_art_licenses_tid%5B%5D=10310&field_art_licenses_tid%5B%5D=4&field_art_licenses_tid%5B%5D=8&field_art_licenses_tid%5B%5D=7&sort_by=score&sort_order=DESC&items_per_page=24&Collection='"
      ],
      "execution_count": null,
      "outputs": []
    },
    {
      "cell_type": "code",
      "metadata": {
        "id": "52drygvoLRZI"
      },
      "source": [
        "# 51페이지 까지 있음.\r\n",
        "# 51페이지: &page=50\r\n",
        "# https://opengameart.org/art-search-advanced?keys=background&title=&field_art_tags_tid_op=or&field_art_tags_tid=&name=&field_art_type_tid%5B0%5D=9&field_art_licenses_tid%5B0%5D=17981&field_art_licenses_tid%5B1%5D=2&field_art_licenses_tid%5B2%5D=17982&field_art_licenses_tid%5B3%5D=3&field_art_licenses_tid%5B4%5D=6&field_art_licenses_tid%5B5%5D=5&field_art_licenses_tid%5B6%5D=10310&field_art_licenses_tid%5B7%5D=4&field_art_licenses_tid%5B8%5D=8&field_art_licenses_tid%5B9%5D=7&sort_by=score&sort_order=DESC&items_per_page=24&Collection=&page=50"
      ],
      "execution_count": null,
      "outputs": []
    },
    {
      "cell_type": "code",
      "metadata": {
        "id": "Ai5wGcvCkItP",
        "colab": {
          "base_uri": "https://localhost:8080/"
        },
        "outputId": "48f746d2-64eb-4a53-ab96-d8c960836f98"
      },
      "source": [
        "!mkdir images\r\n",
        "os.chdir('/content/images')"
      ],
      "execution_count": null,
      "outputs": [
        {
          "output_type": "stream",
          "text": [
            "mkdir: cannot create directory ‘images’: File exists\n"
          ],
          "name": "stdout"
        }
      ]
    },
    {
      "cell_type": "code",
      "metadata": {
        "colab": {
          "base_uri": "https://localhost:8080/",
          "height": 448
        },
        "id": "sNTZmaM_LmCW",
        "outputId": "0890db9b-4fd4-4169-9286-7cc4d95e1de1"
      },
      "source": [
        "url_list = list()\r\n",
        "html_list = list()\r\n",
        "\r\n",
        "# 51개의 page\r\n",
        "for i in range(51):\r\n",
        "  url = url+'&page='+str(i)\r\n",
        "\r\n",
        "  raw = requests.get(url)\r\n",
        "  html = BeautifulSoup(raw.text,'html.parser')\r\n",
        "\r\n",
        "  # 한 페이지에 24개의 content\r\n",
        "  content_title = html.find_all(class_ = \"art-preview-title\") #각 content의 title\r\n",
        "  \r\n",
        "  content_url_list = list() # 각 content의 url\r\n",
        "  basic_url = 'https://opengameart.org/'\r\n",
        "\r\n",
        "  for j in content_title:\r\n",
        "    href = j.find('a').attrs['href']\r\n",
        "\r\n",
        "    content_url = basic_url+href\r\n",
        "    raw = requests.get(content_url)\r\n",
        "    soup = BeautifulSoup(raw.text,'html.parser')   # 각 content 페이지로 이동.\r\n",
        "     \r\n",
        "    ## 사진을 찾아냄\r\n",
        "    content = soup.find(id='maincontent').find(class_='field field-name-field-art-preview field-type-file field-label-above')\r\n",
        "    ## title은 url에서 가장 뒤에 있는 녀석으로\r\n",
        "    title = content_url.split('/')[-1]\r\n",
        "    ## img url을 찾아냄\r\n",
        "    img = content.find('img')['src']\r\n",
        "    ## jpg파일로 저장하기\r\n",
        "    img_data = requests.get(img).content\r\n",
        "    with open(title + '.jpg', 'wb') as handler:\r\n",
        "        handler.write(img_data)\r\n",
        "\r\n",
        "  print(i)\r\n"
      ],
      "execution_count": null,
      "outputs": [
        {
          "output_type": "error",
          "ename": "KeyboardInterrupt",
          "evalue": "ignored",
          "traceback": [
            "\u001b[0;31m---------------------------------------------------------------------------\u001b[0m",
            "\u001b[0;31mTypeError\u001b[0m                                 Traceback (most recent call last)",
            "\u001b[0;32m/usr/local/lib/python3.6/dist-packages/urllib3/connectionpool.py\u001b[0m in \u001b[0;36m_make_request\u001b[0;34m(self, conn, method, url, timeout, chunked, **httplib_request_kw)\u001b[0m\n\u001b[1;32m    376\u001b[0m             \u001b[0;32mtry\u001b[0m\u001b[0;34m:\u001b[0m  \u001b[0;31m# Python 2.7, use buffering of HTTP responses\u001b[0m\u001b[0;34m\u001b[0m\u001b[0;34m\u001b[0m\u001b[0m\n\u001b[0;32m--> 377\u001b[0;31m                 \u001b[0mhttplib_response\u001b[0m \u001b[0;34m=\u001b[0m \u001b[0mconn\u001b[0m\u001b[0;34m.\u001b[0m\u001b[0mgetresponse\u001b[0m\u001b[0;34m(\u001b[0m\u001b[0mbuffering\u001b[0m\u001b[0;34m=\u001b[0m\u001b[0;32mTrue\u001b[0m\u001b[0;34m)\u001b[0m\u001b[0;34m\u001b[0m\u001b[0;34m\u001b[0m\u001b[0m\n\u001b[0m\u001b[1;32m    378\u001b[0m             \u001b[0;32mexcept\u001b[0m \u001b[0mTypeError\u001b[0m\u001b[0;34m:\u001b[0m  \u001b[0;31m# Python 3\u001b[0m\u001b[0;34m\u001b[0m\u001b[0;34m\u001b[0m\u001b[0m\n",
            "\u001b[0;31mTypeError\u001b[0m: getresponse() got an unexpected keyword argument 'buffering'",
            "\nDuring handling of the above exception, another exception occurred:\n",
            "\u001b[0;31mKeyboardInterrupt\u001b[0m                         Traceback (most recent call last)",
            "\u001b[0;32m<ipython-input-5-bd81aba28c5e>\u001b[0m in \u001b[0;36m<module>\u001b[0;34m()\u001b[0m\n\u001b[1;32m     19\u001b[0m \u001b[0;34m\u001b[0m\u001b[0m\n\u001b[1;32m     20\u001b[0m     \u001b[0mcontent_url\u001b[0m \u001b[0;34m=\u001b[0m \u001b[0mbasic_url\u001b[0m\u001b[0;34m+\u001b[0m\u001b[0mhref\u001b[0m\u001b[0;34m\u001b[0m\u001b[0;34m\u001b[0m\u001b[0m\n\u001b[0;32m---> 21\u001b[0;31m     \u001b[0mraw\u001b[0m \u001b[0;34m=\u001b[0m \u001b[0mrequests\u001b[0m\u001b[0;34m.\u001b[0m\u001b[0mget\u001b[0m\u001b[0;34m(\u001b[0m\u001b[0mcontent_url\u001b[0m\u001b[0;34m)\u001b[0m\u001b[0;34m\u001b[0m\u001b[0;34m\u001b[0m\u001b[0m\n\u001b[0m\u001b[1;32m     22\u001b[0m     \u001b[0msoup\u001b[0m \u001b[0;34m=\u001b[0m \u001b[0mBeautifulSoup\u001b[0m\u001b[0;34m(\u001b[0m\u001b[0mraw\u001b[0m\u001b[0;34m.\u001b[0m\u001b[0mtext\u001b[0m\u001b[0;34m,\u001b[0m\u001b[0;34m'html.parser'\u001b[0m\u001b[0;34m)\u001b[0m   \u001b[0;31m# 각 content 페이지로 이동.\u001b[0m\u001b[0;34m\u001b[0m\u001b[0;34m\u001b[0m\u001b[0m\n\u001b[1;32m     23\u001b[0m \u001b[0;34m\u001b[0m\u001b[0m\n",
            "\u001b[0;32m/usr/local/lib/python3.6/dist-packages/requests/api.py\u001b[0m in \u001b[0;36mget\u001b[0;34m(url, params, **kwargs)\u001b[0m\n\u001b[1;32m     74\u001b[0m \u001b[0;34m\u001b[0m\u001b[0m\n\u001b[1;32m     75\u001b[0m     \u001b[0mkwargs\u001b[0m\u001b[0;34m.\u001b[0m\u001b[0msetdefault\u001b[0m\u001b[0;34m(\u001b[0m\u001b[0;34m'allow_redirects'\u001b[0m\u001b[0;34m,\u001b[0m \u001b[0;32mTrue\u001b[0m\u001b[0;34m)\u001b[0m\u001b[0;34m\u001b[0m\u001b[0;34m\u001b[0m\u001b[0m\n\u001b[0;32m---> 76\u001b[0;31m     \u001b[0;32mreturn\u001b[0m \u001b[0mrequest\u001b[0m\u001b[0;34m(\u001b[0m\u001b[0;34m'get'\u001b[0m\u001b[0;34m,\u001b[0m \u001b[0murl\u001b[0m\u001b[0;34m,\u001b[0m \u001b[0mparams\u001b[0m\u001b[0;34m=\u001b[0m\u001b[0mparams\u001b[0m\u001b[0;34m,\u001b[0m \u001b[0;34m**\u001b[0m\u001b[0mkwargs\u001b[0m\u001b[0;34m)\u001b[0m\u001b[0;34m\u001b[0m\u001b[0;34m\u001b[0m\u001b[0m\n\u001b[0m\u001b[1;32m     77\u001b[0m \u001b[0;34m\u001b[0m\u001b[0m\n\u001b[1;32m     78\u001b[0m \u001b[0;34m\u001b[0m\u001b[0m\n",
            "\u001b[0;32m/usr/local/lib/python3.6/dist-packages/requests/api.py\u001b[0m in \u001b[0;36mrequest\u001b[0;34m(method, url, **kwargs)\u001b[0m\n\u001b[1;32m     59\u001b[0m     \u001b[0;31m# cases, and look like a memory leak in others.\u001b[0m\u001b[0;34m\u001b[0m\u001b[0;34m\u001b[0m\u001b[0;34m\u001b[0m\u001b[0m\n\u001b[1;32m     60\u001b[0m     \u001b[0;32mwith\u001b[0m \u001b[0msessions\u001b[0m\u001b[0;34m.\u001b[0m\u001b[0mSession\u001b[0m\u001b[0;34m(\u001b[0m\u001b[0;34m)\u001b[0m \u001b[0;32mas\u001b[0m \u001b[0msession\u001b[0m\u001b[0;34m:\u001b[0m\u001b[0;34m\u001b[0m\u001b[0;34m\u001b[0m\u001b[0m\n\u001b[0;32m---> 61\u001b[0;31m         \u001b[0;32mreturn\u001b[0m \u001b[0msession\u001b[0m\u001b[0;34m.\u001b[0m\u001b[0mrequest\u001b[0m\u001b[0;34m(\u001b[0m\u001b[0mmethod\u001b[0m\u001b[0;34m=\u001b[0m\u001b[0mmethod\u001b[0m\u001b[0;34m,\u001b[0m \u001b[0murl\u001b[0m\u001b[0;34m=\u001b[0m\u001b[0murl\u001b[0m\u001b[0;34m,\u001b[0m \u001b[0;34m**\u001b[0m\u001b[0mkwargs\u001b[0m\u001b[0;34m)\u001b[0m\u001b[0;34m\u001b[0m\u001b[0;34m\u001b[0m\u001b[0m\n\u001b[0m\u001b[1;32m     62\u001b[0m \u001b[0;34m\u001b[0m\u001b[0m\n\u001b[1;32m     63\u001b[0m \u001b[0;34m\u001b[0m\u001b[0m\n",
            "\u001b[0;32m/usr/local/lib/python3.6/dist-packages/requests/sessions.py\u001b[0m in \u001b[0;36mrequest\u001b[0;34m(self, method, url, params, data, headers, cookies, files, auth, timeout, allow_redirects, proxies, hooks, stream, verify, cert, json)\u001b[0m\n\u001b[1;32m    528\u001b[0m         }\n\u001b[1;32m    529\u001b[0m         \u001b[0msend_kwargs\u001b[0m\u001b[0;34m.\u001b[0m\u001b[0mupdate\u001b[0m\u001b[0;34m(\u001b[0m\u001b[0msettings\u001b[0m\u001b[0;34m)\u001b[0m\u001b[0;34m\u001b[0m\u001b[0;34m\u001b[0m\u001b[0m\n\u001b[0;32m--> 530\u001b[0;31m         \u001b[0mresp\u001b[0m \u001b[0;34m=\u001b[0m \u001b[0mself\u001b[0m\u001b[0;34m.\u001b[0m\u001b[0msend\u001b[0m\u001b[0;34m(\u001b[0m\u001b[0mprep\u001b[0m\u001b[0;34m,\u001b[0m \u001b[0;34m**\u001b[0m\u001b[0msend_kwargs\u001b[0m\u001b[0;34m)\u001b[0m\u001b[0;34m\u001b[0m\u001b[0;34m\u001b[0m\u001b[0m\n\u001b[0m\u001b[1;32m    531\u001b[0m \u001b[0;34m\u001b[0m\u001b[0m\n\u001b[1;32m    532\u001b[0m         \u001b[0;32mreturn\u001b[0m \u001b[0mresp\u001b[0m\u001b[0;34m\u001b[0m\u001b[0;34m\u001b[0m\u001b[0m\n",
            "\u001b[0;32m/usr/local/lib/python3.6/dist-packages/requests/sessions.py\u001b[0m in \u001b[0;36msend\u001b[0;34m(self, request, **kwargs)\u001b[0m\n\u001b[1;32m    641\u001b[0m \u001b[0;34m\u001b[0m\u001b[0m\n\u001b[1;32m    642\u001b[0m         \u001b[0;31m# Send the request\u001b[0m\u001b[0;34m\u001b[0m\u001b[0;34m\u001b[0m\u001b[0;34m\u001b[0m\u001b[0m\n\u001b[0;32m--> 643\u001b[0;31m         \u001b[0mr\u001b[0m \u001b[0;34m=\u001b[0m \u001b[0madapter\u001b[0m\u001b[0;34m.\u001b[0m\u001b[0msend\u001b[0m\u001b[0;34m(\u001b[0m\u001b[0mrequest\u001b[0m\u001b[0;34m,\u001b[0m \u001b[0;34m**\u001b[0m\u001b[0mkwargs\u001b[0m\u001b[0;34m)\u001b[0m\u001b[0;34m\u001b[0m\u001b[0;34m\u001b[0m\u001b[0m\n\u001b[0m\u001b[1;32m    644\u001b[0m \u001b[0;34m\u001b[0m\u001b[0m\n\u001b[1;32m    645\u001b[0m         \u001b[0;31m# Total elapsed time of the request (approximately)\u001b[0m\u001b[0;34m\u001b[0m\u001b[0;34m\u001b[0m\u001b[0;34m\u001b[0m\u001b[0m\n",
            "\u001b[0;32m/usr/local/lib/python3.6/dist-packages/requests/adapters.py\u001b[0m in \u001b[0;36msend\u001b[0;34m(self, request, stream, timeout, verify, cert, proxies)\u001b[0m\n\u001b[1;32m    447\u001b[0m                     \u001b[0mdecode_content\u001b[0m\u001b[0;34m=\u001b[0m\u001b[0;32mFalse\u001b[0m\u001b[0;34m,\u001b[0m\u001b[0;34m\u001b[0m\u001b[0;34m\u001b[0m\u001b[0m\n\u001b[1;32m    448\u001b[0m                     \u001b[0mretries\u001b[0m\u001b[0;34m=\u001b[0m\u001b[0mself\u001b[0m\u001b[0;34m.\u001b[0m\u001b[0mmax_retries\u001b[0m\u001b[0;34m,\u001b[0m\u001b[0;34m\u001b[0m\u001b[0;34m\u001b[0m\u001b[0m\n\u001b[0;32m--> 449\u001b[0;31m                     \u001b[0mtimeout\u001b[0m\u001b[0;34m=\u001b[0m\u001b[0mtimeout\u001b[0m\u001b[0;34m\u001b[0m\u001b[0;34m\u001b[0m\u001b[0m\n\u001b[0m\u001b[1;32m    450\u001b[0m                 )\n\u001b[1;32m    451\u001b[0m \u001b[0;34m\u001b[0m\u001b[0m\n",
            "\u001b[0;32m/usr/local/lib/python3.6/dist-packages/urllib3/connectionpool.py\u001b[0m in \u001b[0;36murlopen\u001b[0;34m(self, method, url, body, headers, retries, redirect, assert_same_host, timeout, pool_timeout, release_conn, chunked, body_pos, **response_kw)\u001b[0m\n\u001b[1;32m    598\u001b[0m                                                   \u001b[0mtimeout\u001b[0m\u001b[0;34m=\u001b[0m\u001b[0mtimeout_obj\u001b[0m\u001b[0;34m,\u001b[0m\u001b[0;34m\u001b[0m\u001b[0;34m\u001b[0m\u001b[0m\n\u001b[1;32m    599\u001b[0m                                                   \u001b[0mbody\u001b[0m\u001b[0;34m=\u001b[0m\u001b[0mbody\u001b[0m\u001b[0;34m,\u001b[0m \u001b[0mheaders\u001b[0m\u001b[0;34m=\u001b[0m\u001b[0mheaders\u001b[0m\u001b[0;34m,\u001b[0m\u001b[0;34m\u001b[0m\u001b[0;34m\u001b[0m\u001b[0m\n\u001b[0;32m--> 600\u001b[0;31m                                                   chunked=chunked)\n\u001b[0m\u001b[1;32m    601\u001b[0m \u001b[0;34m\u001b[0m\u001b[0m\n\u001b[1;32m    602\u001b[0m             \u001b[0;31m# If we're going to release the connection in ``finally:``, then\u001b[0m\u001b[0;34m\u001b[0m\u001b[0;34m\u001b[0m\u001b[0;34m\u001b[0m\u001b[0m\n",
            "\u001b[0;32m/usr/local/lib/python3.6/dist-packages/urllib3/connectionpool.py\u001b[0m in \u001b[0;36m_make_request\u001b[0;34m(self, conn, method, url, timeout, chunked, **httplib_request_kw)\u001b[0m\n\u001b[1;32m    378\u001b[0m             \u001b[0;32mexcept\u001b[0m \u001b[0mTypeError\u001b[0m\u001b[0;34m:\u001b[0m  \u001b[0;31m# Python 3\u001b[0m\u001b[0;34m\u001b[0m\u001b[0;34m\u001b[0m\u001b[0m\n\u001b[1;32m    379\u001b[0m                 \u001b[0;32mtry\u001b[0m\u001b[0;34m:\u001b[0m\u001b[0;34m\u001b[0m\u001b[0;34m\u001b[0m\u001b[0m\n\u001b[0;32m--> 380\u001b[0;31m                     \u001b[0mhttplib_response\u001b[0m \u001b[0;34m=\u001b[0m \u001b[0mconn\u001b[0m\u001b[0;34m.\u001b[0m\u001b[0mgetresponse\u001b[0m\u001b[0;34m(\u001b[0m\u001b[0;34m)\u001b[0m\u001b[0;34m\u001b[0m\u001b[0;34m\u001b[0m\u001b[0m\n\u001b[0m\u001b[1;32m    381\u001b[0m                 \u001b[0;32mexcept\u001b[0m \u001b[0mException\u001b[0m \u001b[0;32mas\u001b[0m \u001b[0me\u001b[0m\u001b[0;34m:\u001b[0m\u001b[0;34m\u001b[0m\u001b[0;34m\u001b[0m\u001b[0m\n\u001b[1;32m    382\u001b[0m                     \u001b[0;31m# Remove the TypeError from the exception chain in Python 3;\u001b[0m\u001b[0;34m\u001b[0m\u001b[0;34m\u001b[0m\u001b[0;34m\u001b[0m\u001b[0m\n",
            "\u001b[0;32m/usr/lib/python3.6/http/client.py\u001b[0m in \u001b[0;36mgetresponse\u001b[0;34m(self)\u001b[0m\n\u001b[1;32m   1371\u001b[0m         \u001b[0;32mtry\u001b[0m\u001b[0;34m:\u001b[0m\u001b[0;34m\u001b[0m\u001b[0;34m\u001b[0m\u001b[0m\n\u001b[1;32m   1372\u001b[0m             \u001b[0;32mtry\u001b[0m\u001b[0;34m:\u001b[0m\u001b[0;34m\u001b[0m\u001b[0;34m\u001b[0m\u001b[0m\n\u001b[0;32m-> 1373\u001b[0;31m                 \u001b[0mresponse\u001b[0m\u001b[0;34m.\u001b[0m\u001b[0mbegin\u001b[0m\u001b[0;34m(\u001b[0m\u001b[0;34m)\u001b[0m\u001b[0;34m\u001b[0m\u001b[0;34m\u001b[0m\u001b[0m\n\u001b[0m\u001b[1;32m   1374\u001b[0m             \u001b[0;32mexcept\u001b[0m \u001b[0mConnectionError\u001b[0m\u001b[0;34m:\u001b[0m\u001b[0;34m\u001b[0m\u001b[0;34m\u001b[0m\u001b[0m\n\u001b[1;32m   1375\u001b[0m                 \u001b[0mself\u001b[0m\u001b[0;34m.\u001b[0m\u001b[0mclose\u001b[0m\u001b[0;34m(\u001b[0m\u001b[0;34m)\u001b[0m\u001b[0;34m\u001b[0m\u001b[0;34m\u001b[0m\u001b[0m\n",
            "\u001b[0;32m/usr/lib/python3.6/http/client.py\u001b[0m in \u001b[0;36mbegin\u001b[0;34m(self)\u001b[0m\n\u001b[1;32m    309\u001b[0m         \u001b[0;31m# read until we get a non-100 response\u001b[0m\u001b[0;34m\u001b[0m\u001b[0;34m\u001b[0m\u001b[0;34m\u001b[0m\u001b[0m\n\u001b[1;32m    310\u001b[0m         \u001b[0;32mwhile\u001b[0m \u001b[0;32mTrue\u001b[0m\u001b[0;34m:\u001b[0m\u001b[0;34m\u001b[0m\u001b[0;34m\u001b[0m\u001b[0m\n\u001b[0;32m--> 311\u001b[0;31m             \u001b[0mversion\u001b[0m\u001b[0;34m,\u001b[0m \u001b[0mstatus\u001b[0m\u001b[0;34m,\u001b[0m \u001b[0mreason\u001b[0m \u001b[0;34m=\u001b[0m \u001b[0mself\u001b[0m\u001b[0;34m.\u001b[0m\u001b[0m_read_status\u001b[0m\u001b[0;34m(\u001b[0m\u001b[0;34m)\u001b[0m\u001b[0;34m\u001b[0m\u001b[0;34m\u001b[0m\u001b[0m\n\u001b[0m\u001b[1;32m    312\u001b[0m             \u001b[0;32mif\u001b[0m \u001b[0mstatus\u001b[0m \u001b[0;34m!=\u001b[0m \u001b[0mCONTINUE\u001b[0m\u001b[0;34m:\u001b[0m\u001b[0;34m\u001b[0m\u001b[0;34m\u001b[0m\u001b[0m\n\u001b[1;32m    313\u001b[0m                 \u001b[0;32mbreak\u001b[0m\u001b[0;34m\u001b[0m\u001b[0;34m\u001b[0m\u001b[0m\n",
            "\u001b[0;32m/usr/lib/python3.6/http/client.py\u001b[0m in \u001b[0;36m_read_status\u001b[0;34m(self)\u001b[0m\n\u001b[1;32m    270\u001b[0m \u001b[0;34m\u001b[0m\u001b[0m\n\u001b[1;32m    271\u001b[0m     \u001b[0;32mdef\u001b[0m \u001b[0m_read_status\u001b[0m\u001b[0;34m(\u001b[0m\u001b[0mself\u001b[0m\u001b[0;34m)\u001b[0m\u001b[0;34m:\u001b[0m\u001b[0;34m\u001b[0m\u001b[0;34m\u001b[0m\u001b[0m\n\u001b[0;32m--> 272\u001b[0;31m         \u001b[0mline\u001b[0m \u001b[0;34m=\u001b[0m \u001b[0mstr\u001b[0m\u001b[0;34m(\u001b[0m\u001b[0mself\u001b[0m\u001b[0;34m.\u001b[0m\u001b[0mfp\u001b[0m\u001b[0;34m.\u001b[0m\u001b[0mreadline\u001b[0m\u001b[0;34m(\u001b[0m\u001b[0m_MAXLINE\u001b[0m \u001b[0;34m+\u001b[0m \u001b[0;36m1\u001b[0m\u001b[0;34m)\u001b[0m\u001b[0;34m,\u001b[0m \u001b[0;34m\"iso-8859-1\"\u001b[0m\u001b[0;34m)\u001b[0m\u001b[0;34m\u001b[0m\u001b[0;34m\u001b[0m\u001b[0m\n\u001b[0m\u001b[1;32m    273\u001b[0m         \u001b[0;32mif\u001b[0m \u001b[0mlen\u001b[0m\u001b[0;34m(\u001b[0m\u001b[0mline\u001b[0m\u001b[0;34m)\u001b[0m \u001b[0;34m>\u001b[0m \u001b[0m_MAXLINE\u001b[0m\u001b[0;34m:\u001b[0m\u001b[0;34m\u001b[0m\u001b[0;34m\u001b[0m\u001b[0m\n\u001b[1;32m    274\u001b[0m             \u001b[0;32mraise\u001b[0m \u001b[0mLineTooLong\u001b[0m\u001b[0;34m(\u001b[0m\u001b[0;34m\"status line\"\u001b[0m\u001b[0;34m)\u001b[0m\u001b[0;34m\u001b[0m\u001b[0;34m\u001b[0m\u001b[0m\n",
            "\u001b[0;32m/usr/lib/python3.6/socket.py\u001b[0m in \u001b[0;36mreadinto\u001b[0;34m(self, b)\u001b[0m\n\u001b[1;32m    584\u001b[0m         \u001b[0;32mwhile\u001b[0m \u001b[0;32mTrue\u001b[0m\u001b[0;34m:\u001b[0m\u001b[0;34m\u001b[0m\u001b[0;34m\u001b[0m\u001b[0m\n\u001b[1;32m    585\u001b[0m             \u001b[0;32mtry\u001b[0m\u001b[0;34m:\u001b[0m\u001b[0;34m\u001b[0m\u001b[0;34m\u001b[0m\u001b[0m\n\u001b[0;32m--> 586\u001b[0;31m                 \u001b[0;32mreturn\u001b[0m \u001b[0mself\u001b[0m\u001b[0;34m.\u001b[0m\u001b[0m_sock\u001b[0m\u001b[0;34m.\u001b[0m\u001b[0mrecv_into\u001b[0m\u001b[0;34m(\u001b[0m\u001b[0mb\u001b[0m\u001b[0;34m)\u001b[0m\u001b[0;34m\u001b[0m\u001b[0;34m\u001b[0m\u001b[0m\n\u001b[0m\u001b[1;32m    587\u001b[0m             \u001b[0;32mexcept\u001b[0m \u001b[0mtimeout\u001b[0m\u001b[0;34m:\u001b[0m\u001b[0;34m\u001b[0m\u001b[0;34m\u001b[0m\u001b[0m\n\u001b[1;32m    588\u001b[0m                 \u001b[0mself\u001b[0m\u001b[0;34m.\u001b[0m\u001b[0m_timeout_occurred\u001b[0m \u001b[0;34m=\u001b[0m \u001b[0;32mTrue\u001b[0m\u001b[0;34m\u001b[0m\u001b[0;34m\u001b[0m\u001b[0m\n",
            "\u001b[0;32m/usr/lib/python3.6/ssl.py\u001b[0m in \u001b[0;36mrecv_into\u001b[0;34m(self, buffer, nbytes, flags)\u001b[0m\n\u001b[1;32m   1010\u001b[0m                   \u001b[0;34m\"non-zero flags not allowed in calls to recv_into() on %s\"\u001b[0m \u001b[0;34m%\u001b[0m\u001b[0;34m\u001b[0m\u001b[0;34m\u001b[0m\u001b[0m\n\u001b[1;32m   1011\u001b[0m                   self.__class__)\n\u001b[0;32m-> 1012\u001b[0;31m             \u001b[0;32mreturn\u001b[0m \u001b[0mself\u001b[0m\u001b[0;34m.\u001b[0m\u001b[0mread\u001b[0m\u001b[0;34m(\u001b[0m\u001b[0mnbytes\u001b[0m\u001b[0;34m,\u001b[0m \u001b[0mbuffer\u001b[0m\u001b[0;34m)\u001b[0m\u001b[0;34m\u001b[0m\u001b[0;34m\u001b[0m\u001b[0m\n\u001b[0m\u001b[1;32m   1013\u001b[0m         \u001b[0;32melse\u001b[0m\u001b[0;34m:\u001b[0m\u001b[0;34m\u001b[0m\u001b[0;34m\u001b[0m\u001b[0m\n\u001b[1;32m   1014\u001b[0m             \u001b[0;32mreturn\u001b[0m \u001b[0msocket\u001b[0m\u001b[0;34m.\u001b[0m\u001b[0mrecv_into\u001b[0m\u001b[0;34m(\u001b[0m\u001b[0mself\u001b[0m\u001b[0;34m,\u001b[0m \u001b[0mbuffer\u001b[0m\u001b[0;34m,\u001b[0m \u001b[0mnbytes\u001b[0m\u001b[0;34m,\u001b[0m \u001b[0mflags\u001b[0m\u001b[0;34m)\u001b[0m\u001b[0;34m\u001b[0m\u001b[0;34m\u001b[0m\u001b[0m\n",
            "\u001b[0;32m/usr/lib/python3.6/ssl.py\u001b[0m in \u001b[0;36mread\u001b[0;34m(self, len, buffer)\u001b[0m\n\u001b[1;32m    872\u001b[0m             \u001b[0;32mraise\u001b[0m \u001b[0mValueError\u001b[0m\u001b[0;34m(\u001b[0m\u001b[0;34m\"Read on closed or unwrapped SSL socket.\"\u001b[0m\u001b[0;34m)\u001b[0m\u001b[0;34m\u001b[0m\u001b[0;34m\u001b[0m\u001b[0m\n\u001b[1;32m    873\u001b[0m         \u001b[0;32mtry\u001b[0m\u001b[0;34m:\u001b[0m\u001b[0;34m\u001b[0m\u001b[0;34m\u001b[0m\u001b[0m\n\u001b[0;32m--> 874\u001b[0;31m             \u001b[0;32mreturn\u001b[0m \u001b[0mself\u001b[0m\u001b[0;34m.\u001b[0m\u001b[0m_sslobj\u001b[0m\u001b[0;34m.\u001b[0m\u001b[0mread\u001b[0m\u001b[0;34m(\u001b[0m\u001b[0mlen\u001b[0m\u001b[0;34m,\u001b[0m \u001b[0mbuffer\u001b[0m\u001b[0;34m)\u001b[0m\u001b[0;34m\u001b[0m\u001b[0;34m\u001b[0m\u001b[0m\n\u001b[0m\u001b[1;32m    875\u001b[0m         \u001b[0;32mexcept\u001b[0m \u001b[0mSSLError\u001b[0m \u001b[0;32mas\u001b[0m \u001b[0mx\u001b[0m\u001b[0;34m:\u001b[0m\u001b[0;34m\u001b[0m\u001b[0;34m\u001b[0m\u001b[0m\n\u001b[1;32m    876\u001b[0m             \u001b[0;32mif\u001b[0m \u001b[0mx\u001b[0m\u001b[0;34m.\u001b[0m\u001b[0margs\u001b[0m\u001b[0;34m[\u001b[0m\u001b[0;36m0\u001b[0m\u001b[0;34m]\u001b[0m \u001b[0;34m==\u001b[0m \u001b[0mSSL_ERROR_EOF\u001b[0m \u001b[0;32mand\u001b[0m \u001b[0mself\u001b[0m\u001b[0;34m.\u001b[0m\u001b[0msuppress_ragged_eofs\u001b[0m\u001b[0;34m:\u001b[0m\u001b[0;34m\u001b[0m\u001b[0;34m\u001b[0m\u001b[0m\n",
            "\u001b[0;32m/usr/lib/python3.6/ssl.py\u001b[0m in \u001b[0;36mread\u001b[0;34m(self, len, buffer)\u001b[0m\n\u001b[1;32m    629\u001b[0m         \"\"\"\n\u001b[1;32m    630\u001b[0m         \u001b[0;32mif\u001b[0m \u001b[0mbuffer\u001b[0m \u001b[0;32mis\u001b[0m \u001b[0;32mnot\u001b[0m \u001b[0;32mNone\u001b[0m\u001b[0;34m:\u001b[0m\u001b[0;34m\u001b[0m\u001b[0;34m\u001b[0m\u001b[0m\n\u001b[0;32m--> 631\u001b[0;31m             \u001b[0mv\u001b[0m \u001b[0;34m=\u001b[0m \u001b[0mself\u001b[0m\u001b[0;34m.\u001b[0m\u001b[0m_sslobj\u001b[0m\u001b[0;34m.\u001b[0m\u001b[0mread\u001b[0m\u001b[0;34m(\u001b[0m\u001b[0mlen\u001b[0m\u001b[0;34m,\u001b[0m \u001b[0mbuffer\u001b[0m\u001b[0;34m)\u001b[0m\u001b[0;34m\u001b[0m\u001b[0;34m\u001b[0m\u001b[0m\n\u001b[0m\u001b[1;32m    632\u001b[0m         \u001b[0;32melse\u001b[0m\u001b[0;34m:\u001b[0m\u001b[0;34m\u001b[0m\u001b[0;34m\u001b[0m\u001b[0m\n\u001b[1;32m    633\u001b[0m             \u001b[0mv\u001b[0m \u001b[0;34m=\u001b[0m \u001b[0mself\u001b[0m\u001b[0;34m.\u001b[0m\u001b[0m_sslobj\u001b[0m\u001b[0;34m.\u001b[0m\u001b[0mread\u001b[0m\u001b[0;34m(\u001b[0m\u001b[0mlen\u001b[0m\u001b[0;34m)\u001b[0m\u001b[0;34m\u001b[0m\u001b[0;34m\u001b[0m\u001b[0m\n",
            "\u001b[0;31mKeyboardInterrupt\u001b[0m: "
          ]
        }
      ]
    },
    {
      "cell_type": "markdown",
      "metadata": {
        "id": "dBZ8Fl5egiHb"
      },
      "source": [
        "## 위의 함수 짜기 전에 돌려본 것\r\n",
        "\r\n",
        "- 각 페이지 넘어가면서 파싱"
      ]
    },
    {
      "cell_type": "code",
      "metadata": {
        "id": "6raj0uS-bIhX"
      },
      "source": [
        "url_list = list()\r\n",
        "html_list = list()\r\n",
        "\r\n",
        "# 51개의 page\r\n",
        "for i in range(51):\r\n",
        "  url = url+'&page='+str(i)\r\n",
        "  # url_list.append(url)\r\n",
        "\r\n",
        "  raw = requests.get(url)\r\n",
        "  html = BeautifulSoup(raw.text,'html.parser')\r\n",
        "  # html_list.append(html)\r\n",
        "\r\n",
        "  # 한 페이지에 24개의 content\r\n",
        "  content_title = html.find_all(class_ = \"art-preview-title\") #각 content의 title"
      ],
      "execution_count": null,
      "outputs": []
    },
    {
      "cell_type": "code",
      "metadata": {
        "colab": {
          "base_uri": "https://localhost:8080/"
        },
        "id": "dA4izP_CNtDy",
        "outputId": "b1c7eb48-5fae-4359-e1ba-afa9b4b7a287"
      },
      "source": [
        "print(len(url_list))\r\n",
        "url_list[:5]"
      ],
      "execution_count": null,
      "outputs": [
        {
          "output_type": "stream",
          "text": [
            "51\n"
          ],
          "name": "stdout"
        },
        {
          "output_type": "execute_result",
          "data": {
            "text/plain": [
              "['https://opengameart.org/art-search-advanced?keys=background&title=&field_art_tags_tid_op=or&field_art_tags_tid=&name=&field_art_type_tid%5B%5D=9&field_art_licenses_tid%5B%5D=17981&field_art_licenses_tid%5B%5D=2&field_art_licenses_tid%5B%5D=17982&field_art_licenses_tid%5B%5D=3&field_art_licenses_tid%5B%5D=6&field_art_licenses_tid%5B%5D=5&field_art_licenses_tid%5B%5D=10310&field_art_licenses_tid%5B%5D=4&field_art_licenses_tid%5B%5D=8&field_art_licenses_tid%5B%5D=7&sort_by=score&sort_order=DESC&items_per_page=24&Collection=&page=0',\n",
              " 'https://opengameart.org/art-search-advanced?keys=background&title=&field_art_tags_tid_op=or&field_art_tags_tid=&name=&field_art_type_tid%5B%5D=9&field_art_licenses_tid%5B%5D=17981&field_art_licenses_tid%5B%5D=2&field_art_licenses_tid%5B%5D=17982&field_art_licenses_tid%5B%5D=3&field_art_licenses_tid%5B%5D=6&field_art_licenses_tid%5B%5D=5&field_art_licenses_tid%5B%5D=10310&field_art_licenses_tid%5B%5D=4&field_art_licenses_tid%5B%5D=8&field_art_licenses_tid%5B%5D=7&sort_by=score&sort_order=DESC&items_per_page=24&Collection=&page=1',\n",
              " 'https://opengameart.org/art-search-advanced?keys=background&title=&field_art_tags_tid_op=or&field_art_tags_tid=&name=&field_art_type_tid%5B%5D=9&field_art_licenses_tid%5B%5D=17981&field_art_licenses_tid%5B%5D=2&field_art_licenses_tid%5B%5D=17982&field_art_licenses_tid%5B%5D=3&field_art_licenses_tid%5B%5D=6&field_art_licenses_tid%5B%5D=5&field_art_licenses_tid%5B%5D=10310&field_art_licenses_tid%5B%5D=4&field_art_licenses_tid%5B%5D=8&field_art_licenses_tid%5B%5D=7&sort_by=score&sort_order=DESC&items_per_page=24&Collection=&page=2',\n",
              " 'https://opengameart.org/art-search-advanced?keys=background&title=&field_art_tags_tid_op=or&field_art_tags_tid=&name=&field_art_type_tid%5B%5D=9&field_art_licenses_tid%5B%5D=17981&field_art_licenses_tid%5B%5D=2&field_art_licenses_tid%5B%5D=17982&field_art_licenses_tid%5B%5D=3&field_art_licenses_tid%5B%5D=6&field_art_licenses_tid%5B%5D=5&field_art_licenses_tid%5B%5D=10310&field_art_licenses_tid%5B%5D=4&field_art_licenses_tid%5B%5D=8&field_art_licenses_tid%5B%5D=7&sort_by=score&sort_order=DESC&items_per_page=24&Collection=&page=3',\n",
              " 'https://opengameart.org/art-search-advanced?keys=background&title=&field_art_tags_tid_op=or&field_art_tags_tid=&name=&field_art_type_tid%5B%5D=9&field_art_licenses_tid%5B%5D=17981&field_art_licenses_tid%5B%5D=2&field_art_licenses_tid%5B%5D=17982&field_art_licenses_tid%5B%5D=3&field_art_licenses_tid%5B%5D=6&field_art_licenses_tid%5B%5D=5&field_art_licenses_tid%5B%5D=10310&field_art_licenses_tid%5B%5D=4&field_art_licenses_tid%5B%5D=8&field_art_licenses_tid%5B%5D=7&sort_by=score&sort_order=DESC&items_per_page=24&Collection=&page=4']"
            ]
          },
          "metadata": {
            "tags": []
          },
          "execution_count": 16
        }
      ]
    },
    {
      "cell_type": "code",
      "metadata": {
        "colab": {
          "base_uri": "https://localhost:8080/"
        },
        "id": "vDERkbwyPKm3",
        "outputId": "737598b5-979b-44de-d6da-741022d3cf95"
      },
      "source": [
        "print(len(html_list))"
      ],
      "execution_count": null,
      "outputs": [
        {
          "output_type": "stream",
          "text": [
            "51\n"
          ],
          "name": "stdout"
        }
      ]
    },
    {
      "cell_type": "code",
      "metadata": {
        "id": "k3ZEBLYcSRO9"
      },
      "source": [
        "# 1page\r\n",
        "\r\n",
        "raw = requests.get(url)\r\n",
        "html = BeautifulSoup(raw.text,'html.parser')"
      ],
      "execution_count": null,
      "outputs": []
    },
    {
      "cell_type": "code",
      "metadata": {
        "colab": {
          "base_uri": "https://localhost:8080/"
        },
        "id": "FhOYrhoIRqlY",
        "outputId": "8e49b501-d68c-448d-848a-46070fd1d16c"
      },
      "source": [
        "title = html.find_all(class_ = \"art-preview-title\")\r\n",
        "title"
      ],
      "execution_count": null,
      "outputs": [
        {
          "output_type": "execute_result",
          "data": {
            "text/plain": [
              "[<span class=\"art-preview-title\"><a href=\"/content/vortex-background\">Vortex Background</a></span>,\n",
              " <span class=\"art-preview-title\"><a href=\"/content/pyramid-background\">Pyramid background</a></span>,\n",
              " <span class=\"art-preview-title\"><a href=\"/content/mountain-at-dusk-background\">Mountain at Dusk Background</a></span>,\n",
              " <span class=\"art-preview-title\"><a href=\"/content/fortress-backgroundstoryboard-image\">Fortress background/storyboard image </a></span>,\n",
              " <span class=\"art-preview-title\"><a href=\"/content/snowy-forest-background\">Snowy Forest Background</a></span>,\n",
              " <span class=\"art-preview-title\"><a href=\"/content/bevouliin-free-beach-game-background-for-game-developers\">bevouliin Free Beach game background for game developers</a></span>,\n",
              " <span class=\"art-preview-title\"><a href=\"/content/forest-background\">Forest Background</a></span>,\n",
              " <span class=\"art-preview-title\"><a href=\"/content/artic-landscape-background\">Artic Landscape - Background</a></span>,\n",
              " <span class=\"art-preview-title\"><a href=\"/content/half-a-city-background\">Half a City Background</a></span>,\n",
              " <span class=\"art-preview-title\"><a href=\"/content/industrial-parallax-background\">Industrial Parallax Background</a></span>,\n",
              " <span class=\"art-preview-title\"><a href=\"/content/background-elements\">Background elements</a></span>,\n",
              " <span class=\"art-preview-title\"><a href=\"/content/space-background\">Space background</a></span>,\n",
              " <span class=\"art-preview-title\"><a href=\"/content/volcano-background\">Volcano Background</a></span>,\n",
              " <span class=\"art-preview-title\"><a href=\"/content/space-background-3\">Space Background</a></span>,\n",
              " <span class=\"art-preview-title\"><a href=\"/content/pixel-background-1\">Pixel background</a></span>,\n",
              " <span class=\"art-preview-title\"><a href=\"/content/bevouliin-free-mountain-game-background\">Bevouliin Free Mountain Game Background</a></span>,\n",
              " <span class=\"art-preview-title\"><a href=\"/content/generic-platformer-tileset-16x16-background\">Generic Platformer Tileset (16x16) + Background</a></span>,\n",
              " <span class=\"art-preview-title\"><a href=\"/content/sky-background\">Sky background</a></span>,\n",
              " <span class=\"art-preview-title\"><a href=\"/content/tower-defense-prototyping-assets-4-monsters-some-tiles-a-background-image\">Tower Defense Prototyping Assets: 4 monsters, some tiles, a background image</a></span>,\n",
              " <span class=\"art-preview-title\"><a href=\"/content/hd-multi-layer-parallex-background-samples-of-glitch-game-assets\">HD multi-layer Parallex background samples of Glitch game assets.</a></span>,\n",
              " <span class=\"art-preview-title\"><a href=\"/content/space-background-1\">Space background</a></span>,\n",
              " <span class=\"art-preview-title\"><a href=\"/content/bevouliin-free-game-background-for-game-developers\">Bevouliin Free Game Background for Game Developers</a></span>,\n",
              " <span class=\"art-preview-title\"><a href=\"/content/city-pixelart-background\">City pixelart background</a></span>,\n",
              " <span class=\"art-preview-title\"><a href=\"/content/city-background-repetitive-3\">City Background Repetitive 3</a></span>]"
            ]
          },
          "metadata": {
            "tags": []
          },
          "execution_count": 49
        }
      ]
    },
    {
      "cell_type": "code",
      "metadata": {
        "colab": {
          "base_uri": "https://localhost:8080/"
        },
        "id": "B0XPklMTLO-X",
        "outputId": "75e3ce0d-9511-4e6b-debf-aa1e995f0822"
      },
      "source": [
        "content_url = list()\r\n",
        "\r\n",
        "for i in title:\r\n",
        "  j = i.find('a').attrs['href']\r\n",
        "  content_url.append(i.find('a')['href'])\r\n",
        "  print(j)"
      ],
      "execution_count": null,
      "outputs": [
        {
          "output_type": "stream",
          "text": [
            "/content/vortex-background\n",
            "/content/pyramid-background\n",
            "/content/mountain-at-dusk-background\n",
            "/content/fortress-backgroundstoryboard-image\n",
            "/content/snowy-forest-background\n",
            "/content/bevouliin-free-beach-game-background-for-game-developers\n",
            "/content/forest-background\n",
            "/content/artic-landscape-background\n",
            "/content/half-a-city-background\n",
            "/content/industrial-parallax-background\n",
            "/content/background-elements\n",
            "/content/space-background\n",
            "/content/volcano-background\n",
            "/content/space-background-3\n",
            "/content/pixel-background-1\n",
            "/content/bevouliin-free-mountain-game-background\n",
            "/content/generic-platformer-tileset-16x16-background\n",
            "/content/sky-background\n",
            "/content/tower-defense-prototyping-assets-4-monsters-some-tiles-a-background-image\n",
            "/content/hd-multi-layer-parallex-background-samples-of-glitch-game-assets\n",
            "/content/space-background-1\n",
            "/content/bevouliin-free-game-background-for-game-developers\n",
            "/content/city-pixelart-background\n",
            "/content/city-background-repetitive-3\n"
          ],
          "name": "stdout"
        }
      ]
    },
    {
      "cell_type": "code",
      "metadata": {
        "colab": {
          "base_uri": "https://localhost:8080/"
        },
        "id": "knw61-jsUdh-",
        "outputId": "7e4272bb-98e0-4c07-dae3-f84b9ab2fc3d"
      },
      "source": [
        "len(content_url)"
      ],
      "execution_count": null,
      "outputs": [
        {
          "output_type": "execute_result",
          "data": {
            "text/plain": [
              "24"
            ]
          },
          "metadata": {
            "tags": []
          },
          "execution_count": 51
        }
      ]
    },
    {
      "cell_type": "code",
      "metadata": {
        "id": "mLIraOjBUtS6"
      },
      "source": [
        "basic_url = 'https://opengameart.org/'\r\n",
        "html_list_2 = list()\r\n",
        "\r\n",
        "for i in content_url:\r\n",
        "  raw = requests.get(basic_url+i)\r\n",
        "  html = BeautifulSoup(raw.text,'html.parser')\r\n",
        "  html_list_2.append(html)"
      ],
      "execution_count": null,
      "outputs": []
    },
    {
      "cell_type": "code",
      "metadata": {
        "colab": {
          "base_uri": "https://localhost:8080/"
        },
        "id": "pqeuUwqzbW-v",
        "outputId": "78d550ee-1ae4-40ad-ba18-2e3e180b6d1c"
      },
      "source": [
        "len(html_list_2)"
      ],
      "execution_count": null,
      "outputs": [
        {
          "output_type": "execute_result",
          "data": {
            "text/plain": [
              "24"
            ]
          },
          "metadata": {
            "tags": []
          },
          "execution_count": 58
        }
      ]
    },
    {
      "cell_type": "code",
      "metadata": {
        "colab": {
          "base_uri": "https://localhost:8080/"
        },
        "id": "LrJRhd52b5Ll",
        "outputId": "80ebb947-e341-4537-93cc-c6ec42c2970a"
      },
      "source": [
        "html_list_2[0]"
      ],
      "execution_count": null,
      "outputs": [
        {
          "output_type": "execute_result",
          "data": {
            "text/plain": [
              "<!DOCTYPE html PUBLIC \"-//W3C//DTD XHTML+RDFa 1.0//EN\"\n",
              "  \"http://www.w3.org/MarkUp/DTD/xhtml-rdfa-1.dtd\">\n",
              "\n",
              "<html dir=\"ltr\" version=\"XHTML+RDFa 1.0\" xml:lang=\"en\" xmlns=\"http://www.w3.org/1999/xhtml\" xmlns:article=\"http://ogp.me/ns/article#\" xmlns:book=\"http://ogp.me/ns/book#\" xmlns:content=\"http://purl.org/rss/1.0/modules/content/\" xmlns:dc=\"http://purl.org/dc/terms/\" xmlns:fb=\"http://ogp.me/ns/fb#\" xmlns:foaf=\"http://xmlns.com/foaf/0.1/\" xmlns:og=\"http://ogp.me/ns#\" xmlns:product=\"http://ogp.me/ns/product#\" xmlns:profile=\"http://ogp.me/ns/profile#\" xmlns:rdfs=\"http://www.w3.org/2000/01/rdf-schema#\" xmlns:sioc=\"http://rdfs.org/sioc/ns#\" xmlns:sioct=\"http://rdfs.org/sioc/types#\" xmlns:skos=\"http://www.w3.org/2004/02/skos/core#\" xmlns:video=\"http://ogp.me/ns/video#\" xmlns:xsd=\"http://www.w3.org/2001/XMLSchema#\">\n",
              "<head profile=\"http://www.w3.org/1999/xhtml/vocab\">\n",
              "<meta content=\"text/html; charset=utf-8\" http-equiv=\"Content-Type\"/>\n",
              "<link href=\"https://opengameart.org/sites/all/themes/oga/opengameart2_favicon.ico\" rel=\"shortcut icon\" type=\"image/vnd.microsoft.icon\"/>\n",
              "<meta content=\"IE=edge,chrome=1\" http-equiv=\"X-UA-Compatible\"/>\n",
              "<meta content=\"The result of a bit of messing in gimp, some kind of vortex in space... the gimp xcf has all the layers if you just want the space background.\" name=\"description\"/>\n",
              "<meta content=\"Drupal 7 (http://drupal.org)\" name=\"generator\"/>\n",
              "<link href=\"https://opengameart.org/content/vortex-background\" rel=\"canonical\"/>\n",
              "<link href=\"https://opengameart.org/node/13924\" rel=\"shortlink\"/>\n",
              "<meta content=\"OpenGameArt.org\" property=\"og:site_name\"/>\n",
              "<meta content=\"article\" property=\"og:type\"/>\n",
              "<meta content=\"https://opengameart.org/content/vortex-background\" property=\"og:url\"/>\n",
              "<meta content=\"Vortex Background\" property=\"og:title\"/>\n",
              "<meta content=\"The result of a bit of messing in gimp, some kind of vortex in space... the gimp xcf has all the layers if you just want the space background.\" property=\"og:description\"/>\n",
              "<meta content=\"2012-12-29T10:20:24-08:00\" property=\"og:updated_time\"/>\n",
              "<meta content=\"https://opengameart.org/sites/default/files/vortex.png\" property=\"og:image\"/>\n",
              "<meta content=\"2012-12-29T10:20:24-08:00\" property=\"article:published_time\"/>\n",
              "<meta content=\"2012-12-29T10:20:24-08:00\" property=\"article:modified_time\"/>\n",
              "<meta content=\"Vortex Background\" name=\"dcterms.title\"/>\n",
              "<meta content=\"darkrose\" name=\"dcterms.creator\"/>\n",
              "<meta content=\"The result of a bit of messing in gimp, some kind of vortex in space... the gimp xcf has all the layers if you just want the space background.\" name=\"dcterms.description\"/>\n",
              "<meta content=\"OpenGameArt.org\" name=\"dcterms.publisher\"/>\n",
              "<meta content=\"2012-12-29T10:20-08:00\" name=\"dcterms.date\"/>\n",
              "<meta content=\"Image\" name=\"dcterms.type\"/>\n",
              "<meta content=\"text/html\" name=\"dcterms.format\"/>\n",
              "<meta content=\"und\" name=\"dcterms.language\"/>\n",
              "<title>Vortex Background | OpenGameArt.org</title>\n",
              "<link href=\"https://opengameart.org/modules/system/system.base.css?qif5r2\" media=\"all\" rel=\"stylesheet\" type=\"text/css\"/><link href=\"https://opengameart.org/modules/system/system.menus.css?qif5r2\" media=\"all\" rel=\"stylesheet\" type=\"text/css\"/><link href=\"https://opengameart.org/modules/system/system.messages.css?qif5r2\" media=\"all\" rel=\"stylesheet\" type=\"text/css\"/><link href=\"https://opengameart.org/modules/system/system.theme.css?qif5r2\" media=\"all\" rel=\"stylesheet\" type=\"text/css\"/>\n",
              "<link href=\"https://opengameart.org/sites/all/modules/comment_notify/comment_notify.css?qif5r2\" media=\"all\" rel=\"stylesheet\" type=\"text/css\"/><link href=\"https://opengameart.org/modules/comment/comment.css?qif5r2\" media=\"all\" rel=\"stylesheet\" type=\"text/css\"/><link href=\"https://opengameart.org/sites/all/modules/date/date_api/date.css?qif5r2\" media=\"all\" rel=\"stylesheet\" type=\"text/css\"/><link href=\"https://opengameart.org/sites/all/modules/date/date_popup/themes/datepicker.1.7.css?qif5r2\" media=\"all\" rel=\"stylesheet\" type=\"text/css\"/><link href=\"https://opengameart.org/modules/field/theme/field.css?qif5r2\" media=\"all\" rel=\"stylesheet\" type=\"text/css\"/><link href=\"https://opengameart.org/sites/all/modules/logintoboggan/logintoboggan.css?qif5r2\" media=\"all\" rel=\"stylesheet\" type=\"text/css\"/><link href=\"https://opengameart.org/modules/node/node.css?qif5r2\" media=\"all\" rel=\"stylesheet\" type=\"text/css\"/><link href=\"https://opengameart.org/modules/search/search.css?qif5r2\" media=\"all\" rel=\"stylesheet\" type=\"text/css\"/><link href=\"https://opengameart.org/modules/user/user.css?qif5r2\" media=\"all\" rel=\"stylesheet\" type=\"text/css\"/><link href=\"https://opengameart.org/modules/forum/forum.css?qif5r2\" media=\"all\" rel=\"stylesheet\" type=\"text/css\"/><link href=\"https://opengameart.org/sites/all/modules/views/css/views.css?qif5r2\" media=\"all\" rel=\"stylesheet\" type=\"text/css\"/>\n",
              "<link href=\"https://opengameart.org/sites/all/modules/ctools/css/ctools.css?qif5r2\" media=\"all\" rel=\"stylesheet\" type=\"text/css\"/><link href=\"https://opengameart.org/sites/all/modules/oga/cctag/cctag.css?qif5r2\" media=\"all\" rel=\"stylesheet\" type=\"text/css\"/><link href=\"https://opengameart.org/sites/all/modules/oga/lightbox/css/jquery.lightbox-0.5.css?qif5r2\" media=\"all\" rel=\"stylesheet\" type=\"text/css\"/><link href=\"https://opengameart.org/sites/all/modules/compact_forms/compact_forms.css?qif5r2\" media=\"all\" rel=\"stylesheet\" type=\"text/css\"/><link href=\"https://opengameart.org/modules/openid/openid.css?qif5r2\" media=\"all\" rel=\"stylesheet\" type=\"text/css\"/><link href=\"https://opengameart.org/sites/all/modules/ds/layouts/ds_2col_stacked/ds_2col_stacked.css?qif5r2\" media=\"all\" rel=\"stylesheet\" type=\"text/css\"/>\n",
              "<link href=\"https://opengameart.org/sites/all/themes/oga/oga_theme.css?qif5r2\" media=\"all\" rel=\"stylesheet\" type=\"text/css\"/><link href=\"https://opengameart.org/sites/all/themes/oga/oga_no_side_bar/oga_theme_no_side_bar.css?qif5r2\" media=\"all\" rel=\"stylesheet\" type=\"text/css\"/>\n",
              "<script src=\"https://opengameart.org/misc/jquery.js?v=1.4.4\" type=\"text/javascript\"></script>\n",
              "<script src=\"https://opengameart.org/misc/jquery-extend-3.4.0.js?v=1.4.4\" type=\"text/javascript\"></script>\n",
              "<script src=\"https://opengameart.org/misc/jquery-html-prefilter-3.5.0-backport.js?v=1.4.4\" type=\"text/javascript\"></script>\n",
              "<script src=\"https://opengameart.org/misc/jquery.once.js?v=1.2\" type=\"text/javascript\"></script>\n",
              "<script src=\"https://opengameart.org/misc/drupal.js?qif5r2\" type=\"text/javascript\"></script>\n",
              "<script src=\"https://opengameart.org/misc/jquery.cookie.js?v=1.0\" type=\"text/javascript\"></script>\n",
              "<script src=\"https://opengameart.org/sites/all/modules/oga/lightbox/js/jquery.lightbox-0.5.js?qif5r2\" type=\"text/javascript\"></script>\n",
              "<script type=\"text/javascript\">var lightbox_path=\"/sites/all/modules/oga/lightbox\";jQuery(document).ready(function(){jQuery(\"a.preview-lightbox\").lightBox();});</script>\n",
              "<script src=\"https://opengameart.org/sites/all/modules/compact_forms/compact_forms.js?qif5r2\" type=\"text/javascript\"></script>\n",
              "<script src=\"https://opengameart.org/modules/openid/openid.js?qif5r2\" type=\"text/javascript\"></script>\n",
              "<script src=\"https://opengameart.org/sites/all/modules/oga/ajax_dlcount/ajax_dlcount.js?qif5r2\" type=\"text/javascript\"></script>\n",
              "<script src=\"https://opengameart.org/sites/all/themes/oga/oga_theme.js?qif5r2\" type=\"text/javascript\"></script>\n",
              "<script type=\"text/javascript\">jQuery.extend(Drupal.settings,{\"basePath\":\"\\/\",\"pathPrefix\":\"\",\"ajaxPageState\":{\"theme\":\"oga_theme_no_side_bar\",\"theme_token\":\"nvYMXcUi1SxNeJeI5Ytj-znT9GOeNbBbQtGIsKru8Vo\",\"js\":{\"misc\\/jquery.js\":1,\"misc\\/jquery-extend-3.4.0.js\":1,\"misc\\/jquery-html-prefilter-3.5.0-backport.js\":1,\"misc\\/jquery.once.js\":1,\"misc\\/drupal.js\":1,\"misc\\/jquery.cookie.js\":1,\"sites\\/all\\/modules\\/oga\\/lightbox\\/js\\/jquery.lightbox-0.5.js\":1,\"0\":1,\"sites\\/all\\/modules\\/compact_forms\\/compact_forms.js\":1,\"modules\\/openid\\/openid.js\":1,\"sites\\/all\\/modules\\/oga\\/ajax_dlcount\\/ajax_dlcount.js\":1,\"sites\\/all\\/themes\\/oga\\/oga_theme.js\":1},\"css\":{\"modules\\/system\\/system.base.css\":1,\"modules\\/system\\/system.menus.css\":1,\"modules\\/system\\/system.messages.css\":1,\"modules\\/system\\/system.theme.css\":1,\"sites\\/all\\/modules\\/comment_notify\\/comment_notify.css\":1,\"modules\\/comment\\/comment.css\":1,\"sites\\/all\\/modules\\/date\\/date_api\\/date.css\":1,\"sites\\/all\\/modules\\/date\\/date_popup\\/themes\\/datepicker.1.7.css\":1,\"modules\\/field\\/theme\\/field.css\":1,\"sites\\/all\\/modules\\/logintoboggan\\/logintoboggan.css\":1,\"modules\\/node\\/node.css\":1,\"modules\\/search\\/search.css\":1,\"modules\\/user\\/user.css\":1,\"modules\\/forum\\/forum.css\":1,\"sites\\/all\\/modules\\/views\\/css\\/views.css\":1,\"sites\\/all\\/modules\\/ctools\\/css\\/ctools.css\":1,\"sites\\/all\\/modules\\/oga\\/cctag\\/cctag.css\":1,\"sites\\/all\\/modules\\/oga\\/lightbox\\/css\\/jquery.lightbox-0.5.css\":1,\"sites\\/all\\/modules\\/compact_forms\\/compact_forms.css\":1,\"modules\\/openid\\/openid.css\":1,\"sites\\/all\\/modules\\/ds\\/layouts\\/ds_2col_stacked\\/ds_2col_stacked.css\":1,\"sites\\/all\\/themes\\/oga\\/oga_theme.css\":1,\"sites\\/all\\/themes\\/oga\\/oga_no_side_bar\\/oga_theme_no_side_bar.css\":1}},\"compactForms\":{\"forms\":[\"user-login-form\"],\"stars\":2},\"urlIsAjaxTrusted\":{\"\\/art-search\":true,\"\\/content\\/vortex-background?destination=node\\/13924\":true}});</script>\n",
              "</head>\n",
              "<body class=\"html not-front not-logged-in no-sidebars page-node page-node- page-node-13924 node-type-art domain-opengameart-org\">\n",
              "<div id=\"skip-link\">\n",
              "<a class=\"element-invisible element-focusable\" href=\"#main-content\">Skip to main content</a>\n",
              "</div>\n",
              "<noscript><style>node_art_form_group_author_information{display:block!important}</style></noscript>\n",
              "<div id=\"page\">\n",
              "<div id=\"topright\"> <div class=\"region region-topright\">\n",
              "<div class=\"block block-user\" id=\"block-user-login\">\n",
              "<h2>User login</h2>\n",
              "<div class=\"content\">\n",
              "<form accept-charset=\"UTF-8\" action=\"/content/vortex-background?destination=node/13924\" id=\"user-login-form\" method=\"post\"><div><div class=\"form-item form-type-textfield form-item-openid-identifier\">\n",
              "<label for=\"edit-openid-identifier\">OpenID </label>\n",
              "<input class=\"form-text\" id=\"edit-openid-identifier\" maxlength=\"255\" name=\"openid_identifier\" size=\"15\" type=\"text\" value=\"\"/>\n",
              "<div class=\"description\"><a href=\"http://openid.net/\">What is OpenID?</a></div>\n",
              "</div>\n",
              "<div class=\"form-item form-type-textfield form-item-name\">\n",
              "<label for=\"edit-name\">Username or e-mail <span class=\"form-required\" title=\"This field is required.\">*</span></label>\n",
              "<input class=\"form-text required\" id=\"edit-name\" maxlength=\"60\" name=\"name\" size=\"15\" type=\"text\" value=\"\"/>\n",
              "</div>\n",
              "<div class=\"form-item form-type-password form-item-pass\">\n",
              "<label for=\"edit-pass\">Password <span class=\"form-required\" title=\"This field is required.\">*</span></label>\n",
              "<input class=\"form-text required\" id=\"edit-pass\" maxlength=\"128\" name=\"pass\" size=\"15\" type=\"password\"/>\n",
              "</div>\n",
              "<input name=\"form_build_id\" type=\"hidden\" value=\"form-JOpg25dZ398ZnL9XxSXO-_G3rjWt4up0aV7b3RQ6OrM\"/>\n",
              "<input name=\"form_id\" type=\"hidden\" value=\"user_login_block\"/>\n",
              "<input name=\"openid.return_to\" type=\"hidden\" value=\"https://opengameart.org/openid/authenticate?destination=node/13924\"/>\n",
              "<div class=\"item-list\"><ul class=\"openid-links\"><li class=\"openid-link first\"><a href=\"#openid-login\">Log in using OpenID</a></li>\n",
              "<li class=\"user-link last\"><a href=\"#\">Cancel OpenID login</a></li>\n",
              "</ul></div><div class=\"item-list\"><ul><li class=\"first\"><a href=\"/user/register\" title=\"Create a new user account.\">Create new account</a></li>\n",
              "<li class=\"last\"><a href=\"/user/password\" title=\"Request new password via e-mail.\">Request new password</a></li>\n",
              "</ul></div><div class=\"form-actions form-wrapper\" id=\"edit-actions\"><input class=\"form-submit\" id=\"edit-submit\" name=\"op\" type=\"submit\" value=\"Log in\"/></div></div></form> </div>\n",
              "</div>\n",
              "<div class=\"block block-oga\" id=\"block-oga-register\">\n",
              "<div class=\"content\">\n",
              "<a href=\"#\" onclick='window.location=\"/user/register?human=1\"'>Register</a> </div>\n",
              "</div>\n",
              "</div>\n",
              "</div>\n",
              "<a href=\"/\" id=\"maintitle\"></a>\n",
              "<div id=\"menubar\">\n",
              "<div class=\"region region-menubar\">\n",
              "<div class=\"block block-menu-block\" id=\"block-menu-block-menubar\">\n",
              "<div class=\"content\">\n",
              "<div class=\"menu-block-wrapper menu-block-menubar menu-name-main-menu parent-mlid-0 menu-level-1\">\n",
              "<ul class=\"menu\"><li class=\"first leaf menu-mlid-173\"><a href=\"/\">Home</a></li>\n",
              "<li class=\"expanded menu-mlid-486\"><a href=\"/latest\" title=\"\">Browse</a><ul class=\"menu\"><li class=\"first leaf menu-mlid-487\"><a href=\"/art-search-advanced?keys=&amp;field_art_type_tid%5B%5D=9&amp;sort_by=count&amp;sort_order=DESC\" title=\"Browse Popular 2d Art\">2D Art</a></li>\n",
              "<li class=\"leaf menu-mlid-488\"><a href=\"/art-search-advanced?keys=&amp;field_art_type_tid%5B%5D=10&amp;sort_by=count&amp;sort_order=DESC\" title=\"Browse popular 3D art\">3D Art</a></li>\n",
              "<li class=\"leaf menu-mlid-1819\"><a href=\"/art-search-advanced?keys=&amp;field_art_type_tid%5B%5D=7273&amp;sort_by=count&amp;sort_order=DESC\" title=\"Browse popular concept art\">Concept Art</a></li>\n",
              "<li class=\"leaf menu-mlid-492\"><a href=\"/art-search-advanced?keys=&amp;field_art_type_tid%5B%5D=14&amp;sort_by=count&amp;sort_order=DESC\" title=\"Browse popular textures\">Textures</a></li>\n",
              "<li class=\"leaf menu-mlid-490\"><a href=\"/art-search-advanced?keys=&amp;field_art_type_tid%5B%5D=12&amp;sort_by=count&amp;sort_order=DESC\" title=\"Browse popular music\">Music</a></li>\n",
              "<li class=\"leaf menu-mlid-491\"><a href=\"/art-search-advanced?keys=&amp;field_art_type_tid%5B%5D=13&amp;sort_by=count&amp;sort_order=DESC\" title=\"Browse popular sound effects\">Sound Effects</a></li>\n",
              "<li class=\"leaf menu-mlid-489\"><a href=\"/art-search-advanced?keys=&amp;field_art_type_tid%5B%5D=11&amp;sort_by=count&amp;sort_order=DESC\" title=\"Browse popular documents\">Documents</a></li>\n",
              "<li class=\"last leaf menu-mlid-1464\"><a href=\"/forums/featured-tutorials\" title=\"\">Featured Tutorials</a></li>\n",
              "</ul></li>\n",
              "<li class=\"leaf menu-mlid-485\"><a href=\"/node/add/art\" title=\"\">Submit Art</a></li>\n",
              "<li class=\"expanded menu-mlid-1059\"><a href=\"/collections\">Collect</a><ul class=\"menu\"><li class=\"first leaf menu-mlid-1060\"><a href=\"/my-collections\">My Collections</a></li>\n",
              "<li class=\"last leaf menu-mlid-1062\"><a href=\"/collections\" title=\"\">Art Collections</a></li>\n",
              "</ul></li>\n",
              "<li class=\"expanded menu-mlid-322\"><a href=\"/forums/art-discussion\">Forums</a></li>\n",
              "<li class=\"leaf menu-mlid-673\"><a href=\"/content/faq\" title=\"Frequently Asked Questions\">FAQ</a></li>\n",
              "<li class=\"last expanded menu-mlid-2335\"><a href=\"/leaderboards/total\" title=\"\">Leaderboards</a><ul class=\"menu\"><li class=\"first expanded menu-mlid-2343\"><a href=\"/leaderboards/total\" title=\"\">All Time</a><ul class=\"menu\"><li class=\"first leaf menu-mlid-2336\"><a href=\"/leaderboards/total\" title=\"\">Total Points</a></li>\n",
              "<li class=\"leaf menu-mlid-2338\"><a href=\"/leaderboards/comments\" title=\"\">Comments</a></li>\n",
              "<li class=\"leaf menu-mlid-2337\"><a href=\"/leaderboards/favorites\" title=\"\">Favorites (All)</a></li>\n",
              "<li class=\"leaf menu-mlid-2344\"><a href=\"/leaderboards/2d\" title=\"\">Favorites (2D)</a></li>\n",
              "<li class=\"leaf menu-mlid-2345\"><a href=\"/leaderboards/3d\" title=\"\">Favorites (3D)</a></li>\n",
              "<li class=\"leaf menu-mlid-2346\"><a href=\"/leaderboards/concept\" title=\"\">Favorites (Concept Art)</a></li>\n",
              "<li class=\"leaf menu-mlid-2347\"><a href=\"/leaderboards/music\" title=\"\">Favorites (Music)</a></li>\n",
              "<li class=\"leaf menu-mlid-2348\"><a href=\"/leaderboards/sound\" title=\"\">Favorites (Sound)</a></li>\n",
              "<li class=\"last leaf menu-mlid-2349\"><a href=\"/leaderboards/textures\" title=\"\">Favorites (Textures)</a></li>\n",
              "</ul></li>\n",
              "<li class=\"last expanded menu-mlid-2350\"><a href=\"/weekly-leaderboards/total\" title=\"\">Weekly</a><ul class=\"menu\"><li class=\"first leaf menu-mlid-2351\"><a href=\"/weekly-leaderboards/total\" title=\"\">Total Points</a></li>\n",
              "<li class=\"leaf menu-mlid-2352\"><a href=\"/weekly-leaderboards/comments\" title=\"\">Comments</a></li>\n",
              "<li class=\"leaf menu-mlid-2353\"><a href=\"/weekly-leaderboards/favorites\" title=\"\">Favorites (All)</a></li>\n",
              "<li class=\"leaf menu-mlid-2354\"><a href=\"/weekly-leaderboards/2d\" title=\"\">Favorites (2D)</a></li>\n",
              "<li class=\"leaf menu-mlid-2355\"><a href=\"/weekly-leaderboards/3d\" title=\"\">Favorites (3D)</a></li>\n",
              "<li class=\"leaf menu-mlid-2356\"><a href=\"/weekly-leaderboards/concept\" title=\"\">Favorites (Concept Art)</a></li>\n",
              "<li class=\"leaf menu-mlid-2357\"><a href=\"/weekly-leaderboards/music\" title=\"\">Favorites (Music)</a></li>\n",
              "<li class=\"leaf menu-mlid-2358\"><a href=\"/weekly-leaderboards/sound\" title=\"\">Favorites (Sound)</a></li>\n",
              "<li class=\"last leaf menu-mlid-2359\"><a href=\"/weekly-leaderboards/textures\" title=\"\">Favorites (Textures)</a></li>\n",
              "</ul></li>\n",
              "</ul></li>\n",
              "</ul></div>\n",
              "</div>\n",
              "</div>\n",
              "<div class=\"block block-block\" id=\"block-block-5\">\n",
              "<div class=\"content\">\n",
              "<a href=\"/\"><img src=\"/sites/default/files/archive/sara-logo.png\" title=\"Sara\"/></a> </div>\n",
              "</div>\n",
              "</div>\n",
              "<div id=\"menubar-right\">\n",
              "<div class=\"region region-menubar-right\">\n",
              "<div class=\"block block-views\" id=\"block-views-exp-art-search-art\">\n",
              "<div class=\"content\">\n",
              "<form accept-charset=\"UTF-8\" action=\"/art-search\" id=\"views-exposed-form-art-search-art\" method=\"get\"><div><div class=\"views-exposed-form\">\n",
              "<div class=\"views-exposed-widgets clearfix\">\n",
              "<div class=\"views-exposed-widget views-widget-filter-keys\" id=\"edit-keys-wrapper\">\n",
              "<label for=\"edit-keys\">\n",
              "Search </label>\n",
              "<div class=\"views-widget\">\n",
              "<div class=\"form-item form-type-textfield form-item-keys\">\n",
              "<input class=\"form-text\" id=\"edit-keys\" maxlength=\"128\" name=\"keys\" size=\"15\" title=\"Enter the terms you wish to search for.\" type=\"text\" value=\"\"/>\n",
              "</div>\n",
              "</div>\n",
              "</div>\n",
              "<div class=\"views-exposed-widget views-submit-button\">\n",
              "<input class=\"form-submit\" id=\"edit-submit-art\" name=\"\" type=\"submit\" value=\"Search\"/> </div>\n",
              "</div>\n",
              "</div>\n",
              "</div></form> </div>\n",
              "</div>\n",
              "</div>\n",
              "</div>\n",
              "</div>\n",
              "<div id=\"maincontent\">\n",
              "<div class=\"nosidebar\" id=\"right\">\n",
              "<div class=\"tabs\"></div>\n",
              "<div class=\"region region-content\">\n",
              "<div class=\"block block-system\" id=\"block-system-main\">\n",
              "<div class=\"content\">\n",
              "<div class=\"ds-2col-stacked node node-art view-mode-full clearfix\">\n",
              "<div class=\"group-header\">\n",
              "<div class=\"field field-name-title field-type-ds field-label-hidden\"><div class=\"field-items\"><div class=\"field-item even\" property=\"dc:title\"><h2>Vortex Background</h2></div></div></div> </div>\n",
              "<div class=\"group-left left-column\">\n",
              "<div class=\"field field-name-author-submitter field-type-ds field-label-above\"><div class=\"field-label\">Author: </div><div class=\"field-items\"><div class=\"field-item even\"><span class=\"username\"><a href=\"/users/darkrose\">darkrose</a></span></div></div></div><div class=\"field field-name-post-date field-type-ds field-label-hidden\"><div class=\"field-items\"><div class=\"field-item even\">Saturday, December 29, 2012 - 10:20</div></div></div><div class=\"field field-name-flattr-box field-type-ds field-label-hidden\"><div class=\"field-items\"><div class=\"field-item even\"><script type=\"text/javascript\">(function(){var s=document.createElement('script');var t=document.getElementsByTagName('script')[0];s.type='text/javascript';s.async=true;s.src='//api.flattr.com/js/0.6/load.js?mode=auto';t.parentNode.insertBefore(s,t);})();</script>\n",
              "<a class=\"FlattrButton\" data-flattr-category=\"rest\" data-flattr-popout=\"0\" data-flattr-tags=\"art, opensource\" data-flattr-uid=\"darkrose\" href=\"https://opengameart.org/content/vortex-background\" style=\"display:none;\" title=\"Vortex Background\">\n",
              "Flattr this item\n",
              "</a>\n",
              "</div></div></div><div class=\"field field-name-field-art-type field-type-taxonomy-term-reference field-label-above\"><div class=\"field-label\">Art Type: </div><div class=\"field-items\"><div class=\"field-item even\"><a datatype=\"\" href=\"/art-search-advanced?field_art_type_tid%5B%5D=9\" property=\"rdfs:label skos:prefLabel\" typeof=\"skos:Concept\">2D Art</a></div></div></div><div class=\"field field-name-field-art-tags field-type-taxonomy-term-reference field-label-above\"><div class=\"field-label\">Tags: </div><div class=\"field-items\"><div class=\"field-item even\"><a datatype=\"\" href=\"/art-search-advanced?field_art_tags_tid=space\" property=\"rdfs:label skos:prefLabel\" typeof=\"skos:Concept\">space</a></div><div class=\"field-item odd\"><a datatype=\"\" href=\"/art-search-advanced?field_art_tags_tid=background\" property=\"rdfs:label skos:prefLabel\" typeof=\"skos:Concept\">background</a></div><div class=\"field-item even\"><a datatype=\"\" href=\"/art-search-advanced?field_art_tags_tid=vortex\" property=\"rdfs:label skos:prefLabel\" typeof=\"skos:Concept\">vortex</a></div><div class=\"field-item odd\"><a datatype=\"\" href=\"/art-search-advanced?field_art_tags_tid=stars\" property=\"rdfs:label skos:prefLabel\" typeof=\"skos:Concept\">stars</a></div></div></div><div class=\"field field-name-field-art-licenses field-type-taxonomy-term-reference field-label-above\"><div class=\"field-label\">License(s): </div><div class=\"field-items\"><div class=\"field-item even\"><div class=\"license-icon\"><a href=\"http://creativecommons.org/licenses/by-sa/3.0/\" target=\"_blank\"><img alt=\"\" src=\"https://opengameart.org/sites/default/files/license_images/cc-by-sa.png\" title=\"\"/><div class=\"license-name\">CC-BY-SA 3.0</div></a></div></div><div class=\"field-item odd\"><div class=\"license-icon\"><a href=\"http://www.gnu.org/licenses/gpl-3.0.html\" target=\"_blank\"><img alt=\"\" src=\"https://opengameart.org/sites/default/files/license_images/gpl.png\" title=\"\"/><div class=\"license-name\">GPL 3.0</div></a></div></div><div class=\"field-item even\"><div class=\"license-icon\"><a href=\"http://www.gnu.org/licenses/old-licenses/gpl-2.0.html\" target=\"_blank\"><img alt=\"\" src=\"https://opengameart.org/sites/default/files/license_images/gpl.png\" title=\"\"/><div class=\"license-name\">GPL 2.0</div></a></div></div></div></div><div class=\"field field-name-collect field-type-ds field-label-above\"><div class=\"field-label\">Collections: </div><div class=\"field-items\"><div class=\"field-item even\"><div class=\"collect-container\"><ul><li><a href=\"/content/background-art-collection\">Background Art Collection</a></li><li><a href=\"/content/shmup-art\">Shmup Art</a></li><li><a href=\"/content/simple-scrolling-space-shooter\">Simple Scrolling Space Shooter</a></li><li><a href=\"/content/space-portal\">Space Portal</a></li><li><a href=\"/content/space-background-images\">Space: Background images</a></li><li><a href=\"/content/theme-sci-fi-space\">THEME: sci-fi / space</a></li><li><a href=\"/content/wall-art-collection\">Wall Art Collection</a></li></ul></div></div></div></div><div class=\"field field-name-favorites field-type-ds field-label-inline clearfix\"><div class=\"field-label\">Favorites: </div><div class=\"field-items\"><div class=\"field-item even\">7</div></div></div><div class=\"field field-name-share-icons field-type-ds field-label-inline clearfix\"><div class=\"field-label\">Share Icons: </div><div class=\"field-items\"><div class=\"field-item even\"><div class=\"share-icons\"><a href=\"https://identi.ca//index.php?action=newnotice&amp;status_textarea=Vortex+Background+http%3A%2F%2Fopengameart.org%2Fcontent%2Fvortex-background\" target=\"_BLANK\" title=\"identi.ca\"><img src=\"/sites/default/files/archive/identica-24x24.png\"/></a> <a href=\"http://www.reddit.com/submit?url=http%3A%2F%2Fopengameart.org%2Fcontent%2Fvortex-background&amp;title=Vortex+Background\" target=\"_BLANK\" title=\"Reddit\"><img src=\"/sites/default/files/archive/reddit-24x24.png\"/></a> <a href=\"https://plus.google.com/share?url=http%3A%2F%2Fopengameart.org%2Fcontent%2Fvortex-background\" target=\"_BLANK\" title=\"Google+\"><img src=\"/sites/default/files/archive/xgoogle,P2B-24x24.png.pagespeed.ic.gb2rMvrb67.png\"/></a> <a href=\"https://twitter.com/share?url=http%3A%2F%2Fopengameart.org%2Fcontent%2Fvortex-background&amp;text=Vortex+Background\" target=\"_BLANK\" title=\"Twitter\"><img src=\"/sites/default/files/archive/twitter-24x24.png\"/></a> <a href=\"https://www.facebook.com/sharer/sharer.php?u=http%3A%2F%2Fopengameart.org%2Fcontent%2Fvortex-background\" target=\"_BLANK\" title=\"Facebook\"><img src=\"/sites/default/files/archive/facebook-24x24.png\"/></a> </div></div></div></div> </div>\n",
              "<div class=\"group-right right-column\">\n",
              "<div class=\"field field-name-field-art-preview field-type-file field-label-above\"><div class=\"field-label\">Preview: </div><div class=\"field-items\"><div class=\"field-item even\"><a class=\"preview-lightbox\" href=\"https://opengameart.org/sites/default/files/vortex.png\"><img alt=\"Preview\" src=\"https://opengameart.org/sites/default/files/styles/medium/public/vortex.png\"/></a></div></div></div><div class=\"field field-name-body field-type-text-with-summary field-label-hidden\"><div class=\"field-items\"><div class=\"field-item even\" property=\"content:encoded\"><p>The result of a bit of messing in gimp, some kind of vortex in space... the gimp xcf has all the layers if you just want the space background.</p>\n",
              "</div></div></div><div class=\"field field-name-field-art-files field-type-file field-label-above\"><div class=\"field-label\">File(s): </div><div class=\"field-items\"><div class=\"field-item even\"><span class=\"file\"><img alt=\"vortex.png\" class=\"file-icon\" src=\"/modules/file/icons/image-x-generic.png\" title=\"image/png\"> <a data-fid=\"22269\" download=\"vortex.png\" href=\"https://opengameart.org/sites/default/files/vortex_0.png\" target=\"_blank\" type=\"image/png; length=446742\">vortex.png</a> 446.7 Kb <span class=\"dlcount\">[<span class=\"dlcount-number\" id=\"dlcount-22269\">1743</span> download(s)]</span></img></span></div><div class=\"field-item odd\"><span class=\"file\"><img alt=\"vortex.xcf\" class=\"file-icon\" src=\"/modules/file/icons/application-octet-stream.png\" title=\"application/x-xcf\"> <a data-fid=\"22270\" download=\"vortex.xcf\" href=\"https://opengameart.org/sites/default/files/vortex.xcf\" target=\"_blank\" type=\"application/x-xcf; length=2866275\">vortex.xcf</a> 2.9 Mb <span class=\"dlcount\">[<span class=\"dlcount-number\" id=\"dlcount-22270\">365</span> download(s)]</span></img></span></div></div></div><ul class=\"links inline\"><li class=\"comment_forbidden first last\"><span><a href=\"/user/login?destination=node/13924%23comment-form\">Log in</a> or <a href=\"/user/register?destination=node/13924%23comment-form\">register</a> to post comments</span></li>\n",
              "</ul> </div>\n",
              "</div>\n",
              "</div>\n",
              "</div>\n",
              "</div>\n",
              "</div>\n",
              "</div>\n",
              "</div>\n",
              "<script data-pagespeed-no-defer=\"\" type=\"text/javascript\">(function(){function f(b){var a=window;if(a.addEventListener)a.addEventListener(\"load\",b,!1);else if(a.attachEvent)a.attachEvent(\"onload\",b);else{var c=a.onload;a.onload=function(){b.call(this);c&&c.call(this)}}};window.pagespeed=window.pagespeed||{};var k=window.pagespeed;function l(b,a,c,g,h){this.h=b;this.i=a;this.l=c;this.j=g;this.b=h;this.c=[];this.a=0}l.prototype.f=function(b){for(var a=0;250>a&&this.a<this.b.length;++a,++this.a)try{document.querySelector(this.b[this.a])&&this.c.push(this.b[this.a])}catch(c){}this.a<this.b.length?window.setTimeout(this.f.bind(this),0,b):b()};\n",
              "k.g=function(b,a,c,g,h){if(document.querySelector&&Function.prototype.bind){var d=new l(b,a,c,g,h);f(function(){window.setTimeout(function(){d.f(function(){for(var a=\"oh=\"+d.l+\"&n=\"+d.j,a=a+\"&cs=\",b=0;b<d.c.length;++b){var c=0<b?\",\":\"\",c=c+encodeURIComponent(d.c[b]);if(131072<a.length+c.length)break;a+=c}k.criticalCssBeaconData=a;var b=d.h,c=d.i,e;if(window.XMLHttpRequest)e=new XMLHttpRequest;else if(window.ActiveXObject)try{e=new ActiveXObject(\"Msxml2.XMLHTTP\")}catch(m){try{e=new ActiveXObject(\"Microsoft.XMLHTTP\")}catch(n){}}e&&\n",
              "(e.open(\"POST\",b+(-1==b.indexOf(\"?\")?\"?\":\"&\")+\"url=\"+encodeURIComponent(c)),e.setRequestHeader(\"Content-Type\",\"application/x-www-form-urlencoded\"),e.send(a))})},0)})}};k.criticalCssBeaconInit=k.g;})();\n",
              "pagespeed.selectors=[\"#art-node-form .form-actions\",\"#art-node-form .form-textarea-wrapper\",\"#art-node-form h2\",\"#art-node-form textarea\",\"#autocomplete\",\"#autocomplete li\",\"#autocomplete li.selected\",\"#autocomplete ul\",\"#block-views-art-block-6 h2\",\"#block-views-art-block-9 h2\",\"#block-views-exp-art-search-art-advanced #edit-field-art-tags-tid\",\"#edit-field-art-licenses .form-type-checkbox\",\"#edit-field-art-licenses .form-type-checkbox.art-license-selected\",\"#edit-field-art-licenses li\",\"#edit-field-art-llicense-later-und-the-authors-of-this-content-agree-to-license-it-under-later-versions-of-the-licenses-they-selected-above\",\"#edit-field-art-type .no-term-reference-tree-button\",\"#edit-field-texture-category .no-term-reference-tree-button\",\"#edit-field-texture-type .no-term-reference-tree-button\",\"#edit-openid-identifier\",\"#edit-preview\",\"#forum .description\",\"#forum .icon .topic-status-closed\",\"#forum .icon .topic-status-hot\",\"#forum .icon .topic-status-hot-new\",\"#forum .icon .topic-status-new\",\"#forum .icon .topic-status-sticky\",\"#forum .icon div\",\"#forum div.indent\",\"#forum td.created\",\"#forum td.forum .forum-status-new\",\"#forum td.forum .icon\",\"#forum td.last-reply\",\"#forum td.pager\",\"#forum td.posts\",\"#forum td.replies\",\"#forum td.topics\",\"#jquery-lightbox\",\"#jquery-overlay\",\"#user-login .openid-links\",\"#user-login .openid-links li\",\"#user-login li.openid-link a\",\"#user-login ul\",\"#user-login ul li\",\"#user-login-form .form-required\",\"#user-login-form .openid-links\",\"#user-login-form .openid-links li\",\"#user-login-form li.openid-link a\",\"#user-login-form ul\",\"#views-exposed-form-art-search-art .views-exposed-form .views-exposed-widget\",\"#views-exposed-form-forum-search-forum-search .views-exposed-form .views-exposed-widget\",\"* + html .clearfix\",\"* html .clearfix\",\".adslist img\",\".advanced-help-topic code\",\".advanced-help-topic pre\",\".ajax-progress\",\".ajax-progress .message\",\".ajax-progress .throbber\",\".ajax-progress-bar\",\".art-preview-title\",\".art-preview-title a\",\".art-previews-inline\",\".art-search-result-preview\",\".art-search-result-title\",\".audio-preview img\",\".author-signature\",\".awoga-link\",\".block\",\".breadcrumb\",\".clear\",\".clearfix\",\".collect-container ul\",\".collect-message\",\".comment-unpublished\",\".container-inline .fieldset-wrapper\",\".container-inline .form-actions\",\".container-inline div\",\".container-inline label\",\".container-inline.form-actions\",\".ctools-locked\",\".ctools-owns-lock\",\".display-type-medium div.play-button\",\".display-type-medium div.stop-button\",\".dlcount\",\".draggable a.tabledrag-handle\",\".element-hidden\",\".element-invisible\",\".element-invisible.element-focusable\",\".error\",\".field-name-field-art-preview img\",\".field-name-field-collected-art .field-item\",\".fieldset-description\",\".fieldset-legend span.summary\",\".form-actions\",\".form-checkboxes .form-item\",\".form-item\",\".form-item .description\",\".form-item input.error\",\".form-item label\",\".form-item select.error\",\".form-item textarea.error\",\".form-item-field-art-licenses-und .no-term-reference-tree-button\",\".form-item-openid-identifier .description\",\".form-item-your-own-work\",\".form-radios .form-item\",\".form-required\",\".form-textarea-wrapper textarea\",\".form-type-checkbox .description\",\".form-type-radio .description\",\".forum-list-icon-legend .forum-list-icon-new-posts\",\".forum-table a.username\",\".forum-table span.username\",\".hidden\",\".item-list .pager\",\".item-list .pager li\",\".item-list .title\",\".item-list ul\",\".item-list ul li\",\".license-icon img\",\".marker\",\".more-help-link\",\".more-help-link a\",\".more-link\",\".node-art-collection div.node-art\",\".node-forum img\",\".node-unpublished\",\".nowrap\",\".ok\",\".pager-current\",\".progress\",\".progress .bar\",\".progress .filled\",\".progress .percentage\",\".resizable-textarea .grippie\",\".search-results li.art-search-result\",\".simpleads-7150\",\".subtree-toggle\",\".subtree-toggle.closed\",\".subtree-toggle.open\",\".tabledrag-toggle-weight\",\".tabledrag-toggle-weight-wrapper\",\".texture-category-tree ul\",\".texture-category-tree ul ul\",\".topic-icon-hot-new\",\".valign-middle\",\".vertical-tabs\",\".vertical-tabs ul.vertical-tabs-list .selected strong\",\".vertical-tabs ul.vertical-tabs-list li\",\".vertical-tabs ul.vertical-tabs-list li.selected\",\".view-blog .field-name-title\",\".view-blog .node\",\".view-browse-textures .texture-cat-row .views-field-field-art-files\",\".view-browse-textures .views-field-field-art-files\",\".view-comments-recent a.username\",\".view-comments-recent span.username\",\".view-followers\",\".view-followers a.username\",\".view-friends\",\".view-friends a.username\",\".view-id-pdj_vote div.view-content .views-field-title\",\".view-id-pdj_vote tr.even\",\".view-id-pdj_vote_2 div.view-content .views-field-title\",\".view-id-pdj_vote_2 tr.even\",\".view-leaderboard table.views-table\",\".view-leaderboard table.views-table .views-field-points\",\".view-leaderboards\",\".view-leaderboards .views-field-points\",\".view-leaderboards table\",\".view-mode-art_preview\",\".view-mode-art_preview div.audio-preview\",\".view-mode-art_preview img\",\".view-mode-art_preview span.art-preview-title\",\".view-mode-art_preview span.art-preview-title.hover\",\".view-mode-art_preview span.art-preview-title.hover a\",\".view-weekly-leaderboards\",\".view-weekly-leaderboards .views-field-points\",\".view-weekly-leaderboards table\",\".views-exposed-form .multi-select-checkbox\",\".views-exposed-form .multi-select-replace input\",\".views-exposed-form .views-exposed-widget\",\".views-exposed-form .views-widget-sort-by\",\".views-exposed-form .views-widget-sort-order\",\".warning\",\".wrap-pre\",\"a\",\"a#maintitle\",\"a.af-button-large\",\"a.button\",\"a.ctools-ajaxing\",\"a.flag\",\"a.patreon-button\",\"a.tabledrag-handle\",\"a.tabledrag-handle .handle\",\"a.tabledrag-handle-hover .handle\",\"body\",\"body div.tabledrag-changed-warning\",\"body.drag\",\"button\",\"button.ctools-ajaxing\",\"del\",\"div\",\"div#block-block-15\",\"div#block-block-5\",\"div#edit-field-art-author-homepage div\",\"div#farright\",\"div#field-art-author-add-more-wrapper div\",\"div#forum\",\"div#forum-topic-list td.views-field-title\",\"div#forum-topic-list td.views-field-title a\",\"div#left\",\"div#left .block\",\"div#maincontent\",\"div#menubar\",\"div#menubar .searchbox\",\"div#menubar .views-exposed-form .form-type-textfield\",\"div#menubar .views-exposed-form .views-exposed-widget .form-submit\",\"div#menubar .views-exposed-form label\",\"div#menubar div\",\"div#menubar div#block-search-form\",\"div#menubar ul.menu\",\"div#menubar ul.menu li\",\"div#menubar ul.menu li > a\",\"div#menubar ul.menu li > ul\",\"div#menubar ul.menu li > ul li\",\"div#menubar ul.menu li > ul li > a\",\"div#menubar ul.menu li > ul li > ul\",\"div#menubar ul.menu li a\",\"div#menubar ul.menu li.active a\",\"div#menubar ul.menu li.active-trail a\",\"div#menubar-right\",\"div#page\",\"div#right\",\"div#right #block-system-main\",\"div#right .block\",\"div#topright\",\"div#topright div\",\"div#topright div#block-user-login\",\"div#topright div#block-user-login .form-actions\",\"div#topright div#block-user-login .form-item\",\"div#topright div#block-user-login .item-list\",\"div#topright div#block-user-login h2\",\"div#topright div#block-user-login input\",\"div#topright div#block-user-login input.form-submit\",\"div#topright div.block\",\"div.art-preview-multiple\",\"div.audio-preview-container\",\"div.block\",\"div.byline\",\"div.comment\",\"div.comment .group-footer\",\"div.comment .group-left\",\"div.comment .group-right\",\"div.comment .permalink\",\"div.comment div.field\",\"div.comment div.field p\",\"div.comment.comment-unpublished\",\"div.contextual-links-wrapper\",\"div.ctools-ajaxing\",\"div.error\",\"div.error p.error\",\"div.feed-icon\",\"div.field\",\"div.field-name-collect .form-item\",\"div.field-name-collect-toggle\",\"div.field-name-collect-toggle a\",\"div.field-name-collect-toggle a.collect-toggle-add\",\"div.field-name-collect-toggle a.collect-toggle-remove\",\"div.field-name-collect-toggle a.collect-toggle-wait\",\"div.field-name-collect-toggle div\",\"div.field-name-field-art-licenses .field-item\",\"div.field-name-field-art-tags div.field-item\",\"div.field-name-field-art-tags div.field-item a\",\"div.field-name-field-medals .field-item\",\"div.field-name-host\",\"div.field-type-file div.fieldset-wrapper div\",\"div.form-item-openid-identifier\",\"div.forum-name\",\"div.forum-table-name\",\"div.indentation\",\"div.messages\",\"div.messages ul\",\"div.messages ul li\",\"div.pagetitle h2\",\"div.play-button\",\"div.preview-image a img\",\"div.profile\",\"div.region-menubar-right > div\",\"div.status\",\"div.stop-button\",\"div.submitted\",\"div.tree-child\",\"div.tree-child-horizontal\",\"div.tree-child-last\",\"div.vertical-tabs\",\"div.vertical-tabs ul.vertical-tabs-list\",\"div.view-art div.field\",\"div.view-art tbody td\",\"div.view-art td\",\"div.view-art th\",\"div.view-art-collections div.view-content .views-field-title\",\"div.view-content .views-field-title\",\"div.view-id-blog div.view-mode-list_view div.field-name-ds-user-picture\",\"div.view-mode-art_preview\",\"div.view-mode-art_preview .views-field\",\"div.view-mode-art_preview .views-field audio\",\"div.view-mode-art_preview div.field\",\"div.view-mode-art_preview div.field-item\",\"div.view-mode-art_preview div.field-item audio\",\"div.view-mode-art_preview div.field-item img\",\"div.view-mode-art_preview div.field-item img.audio-image\",\"div.view-mode-list_view div.field-name-ds-user-picture\",\"div.view-your-medals .field-item\",\"div.warning\",\"fieldset\",\"fieldset.collapsible\",\"fieldset.collapsible .fieldset-legend\",\"fieldset.filter-wrapper\",\"form\",\"form#art-node-form .tabledrag-toggle-weight\",\"form#user-register-form\",\"h1\",\"h2\",\"h3\",\"h4\",\"h5\",\"hr\",\"html\",\"html.js #user-login div.form-item-openid-identifier\",\"html.js #user-login li.openid-link\",\"html.js #user-login-form div.form-item-openid-identifier\",\"html.js #user-login-form li.openid-link\",\"html.js .js-hide\",\"html.js fieldset.collapsed\",\"html.js fieldset.collapsed .fieldset-legend\",\"html.js fieldset.collapsed .fieldset-wrapper\",\"html.js fieldset.collapsible .fieldset-legend\",\"html.js input.form-autocomplete\",\"html.js input.throbbing\",\"img\",\"img.audio-image\",\"input\",\"input.ctools-ajaxing\",\"input.form-checkbox\",\"input.form-radio\",\"input[type=\\\"reset\\\"]\",\"input[type=\\\"submit\\\"]\",\"label\",\"label.option\",\"label[for=\\\"edit-field-art-llicense-later-und-the-authors-of-this-content-agree-to-license-it-under-later-versions-of-the-licenses-they-selected-above\\\"]\",\"li a.active\",\"li.collapsed\",\"li.expanded\",\"li.leaf\",\"ol.apachesolr_search-results\",\"select\",\"select.ctools-ajaxing\",\"span.file .dlcount\",\"span.username\",\"strike\",\"table\",\"table tr.error\",\"table tr.ok\",\"table tr.warning\",\"table.sticky-header\",\"tbody\",\"td\",\"td.active\",\"td.checkbox\",\"td.menu-disabled\",\"textarea\",\"th\",\"th.active img\",\"th.checkbox\",\"thead\",\"tr .ajax-progress .throbber\",\"tr.drag\",\"tr.drag-previous\",\"tr.even\",\"tr.even .form-item\",\"tr.even td.active\",\"tr.even td.forum-list-icon-new-posts .forum-list-icon-wrapper span\",\"tr.odd\",\"tr.odd .form-item\",\"tr.odd td.active\",\"tr.odd td.forum-list-icon-new-posts .forum-list-icon-wrapper span\",\"tr.selected td\",\"ul li.collapsed\",\"ul li.expanded\",\"ul li.leaf\",\"ul.inline\",\"ul.inline li\",\"ul.links a\",\"ul.links.inline\",\"ul.links.inline li\",\"ul.menu\",\"ul.menu li\",\"ul.primary\",\"ul.primary li\",\"ul.primary li a\",\"ul.primary li.active a\",\"ul.secondary\",\"ul.secondary a\",\"ul.secondary a.active\",\"ul.secondary li\",\"ul.tabs\",\"ul.tabs li\",\"ul.tabs.primary\",\"ul.tabs.primary a\",\"ul.tabs.primary li.active a\",\"ul.userpoints-links\",\"ul.userpoints-links li\"];pagespeed.criticalCssBeaconInit('/ngx_pagespeed_beacon','https://opengameart.org//content/vortex-background','tsFijLEK-g','1ty323eO8gI',pagespeed.selectors);</script></body>\n",
              "</html>"
            ]
          },
          "metadata": {
            "tags": []
          },
          "execution_count": 62
        }
      ]
    },
    {
      "cell_type": "code",
      "metadata": {
        "colab": {
          "base_uri": "https://localhost:8080/",
          "height": 35
        },
        "id": "aqSJ3lQMbZS7",
        "outputId": "9e9241b7-21d4-42c8-cb23-acc778fe2393"
      },
      "source": [
        "content2 = html_list_2[0].find(id='maincontent').find(class_='field field-name-field-art-preview field-type-file field-label-above')\r\n",
        "## title은 url에서 가장 뒤에 있는 녀석으로\r\n",
        "title = content_url[0].split('/')[-1]\r\n",
        "title"
      ],
      "execution_count": null,
      "outputs": [
        {
          "output_type": "execute_result",
          "data": {
            "application/vnd.google.colaboratory.intrinsic+json": {
              "type": "string"
            },
            "text/plain": [
              "'vortex-background'"
            ]
          },
          "metadata": {
            "tags": []
          },
          "execution_count": 84
        }
      ]
    },
    {
      "cell_type": "code",
      "metadata": {
        "id": "zgd31nMobZVp"
      },
      "source": [
        "img = content2.find('img')['src']\r\n",
        "img_data = requests.get(img).content"
      ],
      "execution_count": null,
      "outputs": []
    },
    {
      "cell_type": "code",
      "metadata": {
        "colab": {
          "base_uri": "https://localhost:8080/",
          "height": 188
        },
        "id": "E5cdtc9LdTwe",
        "outputId": "138356d2-8cbf-4e3d-b565-e07f9d39119d"
      },
      "source": [
        "with open(title + '.jpg', 'wb') as handler:\r\n",
        "    handler.write(img_data)"
      ],
      "execution_count": null,
      "outputs": [
        {
          "output_type": "error",
          "ename": "NameError",
          "evalue": "ignored",
          "traceback": [
            "\u001b[0;31m---------------------------------------------------------------------------\u001b[0m",
            "\u001b[0;31mNameError\u001b[0m                                 Traceback (most recent call last)",
            "\u001b[0;32m<ipython-input-88-919b3dd17be3>\u001b[0m in \u001b[0;36m<module>\u001b[0;34m()\u001b[0m\n\u001b[0;32m----> 1\u001b[0;31m \u001b[0;32mwith\u001b[0m \u001b[0mopen\u001b[0m\u001b[0;34m(\u001b[0m\u001b[0mcrawling_file\u001b[0m\u001b[0;34m/\u001b[0m\u001b[0mtitle\u001b[0m \u001b[0;34m+\u001b[0m \u001b[0;34m'.jpg'\u001b[0m\u001b[0;34m,\u001b[0m \u001b[0;34m'wb'\u001b[0m\u001b[0;34m)\u001b[0m \u001b[0;32mas\u001b[0m \u001b[0mhandler\u001b[0m\u001b[0;34m:\u001b[0m\u001b[0;34m\u001b[0m\u001b[0;34m\u001b[0m\u001b[0m\n\u001b[0m\u001b[1;32m      2\u001b[0m     \u001b[0mhandler\u001b[0m\u001b[0;34m.\u001b[0m\u001b[0mwrite\u001b[0m\u001b[0;34m(\u001b[0m\u001b[0mimg_data\u001b[0m\u001b[0;34m)\u001b[0m\u001b[0;34m\u001b[0m\u001b[0;34m\u001b[0m\u001b[0m\n",
            "\u001b[0;31mNameError\u001b[0m: name 'crawling_file' is not defined"
          ]
        }
      ]
    },
    {
      "cell_type": "code",
      "metadata": {
        "id": "GCjOmaF5eFa5"
      },
      "source": [
        ""
      ],
      "execution_count": null,
      "outputs": []
    },
    {
      "cell_type": "code",
      "metadata": {
        "id": "YJVvm1useFdu"
      },
      "source": [
        ""
      ],
      "execution_count": null,
      "outputs": []
    },
    {
      "cell_type": "code",
      "metadata": {
        "id": "nJGoIHY0cOAM"
      },
      "source": [
        ""
      ],
      "execution_count": null,
      "outputs": []
    },
    {
      "cell_type": "markdown",
      "metadata": {
        "id": "s6z6NjLsgvDC"
      },
      "source": [
        "#### 이미지 태그 찾아서 저장"
      ]
    },
    {
      "cell_type": "code",
      "metadata": {
        "id": "MIVe04TRg5b5"
      },
      "source": [
        "import urllib\r\n",
        "import requests\r\n",
        "from bs4 import BeautifulSoup"
      ],
      "execution_count": null,
      "outputs": []
    },
    {
      "cell_type": "code",
      "metadata": {
        "id": "NILnwd4Pg27b"
      },
      "source": [
        "url = 'https://opengameart.org/content/vortex-background'"
      ],
      "execution_count": null,
      "outputs": []
    },
    {
      "cell_type": "code",
      "metadata": {
        "id": "oTQiJbVQFCZu"
      },
      "source": [
        "raw = requests.get(url, headers=headers)\r\n",
        "\r\n",
        "html=BeautifulSoup(raw.text,'html.parser')\r\n"
      ],
      "execution_count": null,
      "outputs": []
    },
    {
      "cell_type": "code",
      "metadata": {
        "id": "Jyx1tYKe1zPz",
        "colab": {
          "base_uri": "https://localhost:8080/",
          "height": 241
        },
        "outputId": "e584413d-4f46-439f-b2aa-f5d89de2cf5b"
      },
      "source": [
        "## HTTP GET Request\n",
        "req = requests.get(url)\n",
        "## HTML 소스 가져오기\n",
        "html = req.text\n",
        "## html로 파싱\n",
        "soup = BeautifulSoup(html, 'html.parser')\n",
        "## 사진을 찾아냄\n",
        "content = soup.find(id='maincontent').find(class_='field field-name-field-art-preview field-type-file field-label-above')\n",
        "## title은 url에서 가장 뒤에 있는 녀석으로\n",
        "title = url.split('/')[-1]\n",
        "## img url을 찾아냄\n",
        "img = content.find('img')['src']\n",
        "## jpg파일로 저장하기\n",
        "img_data = requests.get(img).content\n",
        "with open(title + '.jpg', 'wb') as handler:\n",
        "    handler.write(img_data)"
      ],
      "execution_count": null,
      "outputs": [
        {
          "output_type": "error",
          "ename": "AttributeError",
          "evalue": "ignored",
          "traceback": [
            "\u001b[0;31m---------------------------------------------------------------------------\u001b[0m",
            "\u001b[0;31mAttributeError\u001b[0m                            Traceback (most recent call last)",
            "\u001b[0;32m<ipython-input-70-411271b5200f>\u001b[0m in \u001b[0;36m<module>\u001b[0;34m()\u001b[0m\n\u001b[1;32m     10\u001b[0m \u001b[0mtitle\u001b[0m \u001b[0;34m=\u001b[0m \u001b[0murl\u001b[0m\u001b[0;34m.\u001b[0m\u001b[0msplit\u001b[0m\u001b[0;34m(\u001b[0m\u001b[0;34m'/'\u001b[0m\u001b[0;34m)\u001b[0m\u001b[0;34m[\u001b[0m\u001b[0;34m-\u001b[0m\u001b[0;36m1\u001b[0m\u001b[0;34m]\u001b[0m\u001b[0;34m\u001b[0m\u001b[0;34m\u001b[0m\u001b[0m\n\u001b[1;32m     11\u001b[0m \u001b[0;31m## img url을 찾아냄\u001b[0m\u001b[0;34m\u001b[0m\u001b[0;34m\u001b[0m\u001b[0;34m\u001b[0m\u001b[0m\n\u001b[0;32m---> 12\u001b[0;31m \u001b[0mimg\u001b[0m \u001b[0;34m=\u001b[0m \u001b[0mcontent\u001b[0m\u001b[0;34m.\u001b[0m\u001b[0mfind\u001b[0m\u001b[0;34m(\u001b[0m\u001b[0;34m'img'\u001b[0m\u001b[0;34m)\u001b[0m\u001b[0;34m[\u001b[0m\u001b[0;34m'src'\u001b[0m\u001b[0;34m]\u001b[0m\u001b[0;34m\u001b[0m\u001b[0;34m\u001b[0m\u001b[0m\n\u001b[0m\u001b[1;32m     13\u001b[0m \u001b[0;31m## jpg파일로 저장하기\u001b[0m\u001b[0;34m\u001b[0m\u001b[0;34m\u001b[0m\u001b[0;34m\u001b[0m\u001b[0m\n\u001b[1;32m     14\u001b[0m \u001b[0mimg_data\u001b[0m \u001b[0;34m=\u001b[0m \u001b[0mrequests\u001b[0m\u001b[0;34m.\u001b[0m\u001b[0mget\u001b[0m\u001b[0;34m(\u001b[0m\u001b[0mimg\u001b[0m\u001b[0;34m)\u001b[0m\u001b[0;34m.\u001b[0m\u001b[0mcontent\u001b[0m\u001b[0;34m\u001b[0m\u001b[0;34m\u001b[0m\u001b[0m\n",
            "\u001b[0;31mAttributeError\u001b[0m: 'NoneType' object has no attribute 'find'"
          ]
        }
      ]
    },
    {
      "cell_type": "code",
      "metadata": {
        "id": "IqJPnLEyL0Kw"
      },
      "source": [
        ""
      ],
      "execution_count": null,
      "outputs": []
    }
  ]
}