{
 "cells": [
  {
   "cell_type": "markdown",
   "metadata": {},
   "source": [
    "# 목표\n",
    "- 폴더내에 있는 이미지들을 원하는 사이즈, 채널로 바꿔서 새폴더에 저장\n",
    "- resize((32,32), \"이미지들이 담겨있는 폴더\")"
   ]
  },
  {
   "cell_type": "code",
   "execution_count": 1,
   "metadata": {},
   "outputs": [],
   "source": [
    "def resize(size, target_dir):\n",
    "    import os\n",
    "    from PIL import Image\n",
    "    fnames = os.listdir(target_dir)\n",
    "    new_dir = os.path.join(target_dir, 'resized')\n",
    "    try:\n",
    "        os.mkdir(new_dir)\n",
    "    except:\n",
    "        pass\n",
    "    for fname in fnames:\n",
    "        img = os.path.join(target_dir, fname)\n",
    "        img = Image.open(img)\n",
    "        img.resize(size).convert('RGB').save(os.path.join(new_dir, fname))"
   ]
  },
  {
   "cell_type": "code",
   "execution_count": null,
   "metadata": {},
   "outputs": [],
   "source": [
    "resize((64,64),\"C:\\\\Users\\\\leejuhee\\\\Desktop\\\\poketmon_all\")   # 'C:\\\\projects\\\\Data\\\\nimal\\\\duck'"
   ]
  },
  {
   "cell_type": "code",
   "execution_count": null,
   "metadata": {},
   "outputs": [],
   "source": []
  }
 ],
 "metadata": {
  "kernelspec": {
   "display_name": "Python 3",
   "language": "python",
   "name": "python3"
  },
  "language_info": {
   "codemirror_mode": {
    "name": "ipython",
    "version": 3
   },
   "file_extension": ".py",
   "mimetype": "text/x-python",
   "name": "python",
   "nbconvert_exporter": "python",
   "pygments_lexer": "ipython3",
   "version": "3.7.3"
  }
 },
 "nbformat": 4,
 "nbformat_minor": 4
}
