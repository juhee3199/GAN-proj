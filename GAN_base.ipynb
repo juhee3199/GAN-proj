{
  "nbformat": 4,
  "nbformat_minor": 0,
  "metadata": {
    "colab": {
      "name": "GAN.ipynb",
      "provenance": [],
      "collapsed_sections": []
    },
    "kernelspec": {
      "name": "python3",
      "display_name": "Python 3"
    },
    "accelerator": "TPU"
  },
  "cells": [
    {
      "cell_type": "code",
      "metadata": {
        "colab": {
          "base_uri": "https://localhost:8080/"
        },
        "id": "ycnl7remE4Da",
        "outputId": "d299eae7-c2a1-4476-fd52-b097a0b8d8d8"
      },
      "source": [
        "from google.colab import drive\r\n",
        "drive.mount('./content')"
      ],
      "execution_count": 1,
      "outputs": [
        {
          "output_type": "stream",
          "text": [
            "Mounted at ./content\n"
          ],
          "name": "stdout"
        }
      ]
    },
    {
      "cell_type": "code",
      "metadata": {
        "colab": {
          "base_uri": "https://localhost:8080/",
          "height": 35
        },
        "id": "VMuiQPG2EAmO",
        "outputId": "c022083e-8f3c-405f-adb2-3e28c2020851"
      },
      "source": [
        "import keras\r\n",
        "keras.__version__"
      ],
      "execution_count": null,
      "outputs": [
        {
          "output_type": "execute_result",
          "data": {
            "application/vnd.google.colaboratory.intrinsic+json": {
              "type": "string"
            },
            "text/plain": [
              "'2.4.3'"
            ]
          },
          "metadata": {
            "tags": []
          },
          "execution_count": 2
        }
      ]
    },
    {
      "cell_type": "code",
      "metadata": {
        "id": "7tDdMra6HLx1",
        "colab": {
          "base_uri": "https://localhost:8080/"
        },
        "outputId": "b00729e0-fa30-4b93-84e1-935fd9703ffa"
      },
      "source": [
        "from keras import layers\r\n",
        "import numpy as np\r\n",
        "\r\n",
        "latent_dim = 32\r\n",
        "height = 32\r\n",
        "width = 32\r\n",
        "channels = 3\r\n",
        "\r\n",
        "generator_input = keras.Input(shape=(latent_dim,))\r\n",
        "\r\n",
        "# 입력을 16 × 16 크기의 128개 채널을 가진 특성 맵으로 변환합니다\r\n",
        "x = layers.Dense(128 * 16 * 16)(generator_input)\r\n",
        "x = layers.LeakyReLU()(x)\r\n",
        "x = layers.Reshape((16, 16, 128))(x)\r\n",
        "\r\n",
        "# 합성곱 층을 추가합니다\r\n",
        "x = layers.Conv2D(256, 5, padding='same')(x)\r\n",
        "x = layers.LeakyReLU()(x)\r\n",
        "\r\n",
        "# 32 × 32 크기로 업샘플링합니다\r\n",
        "x = layers.Conv2DTranspose(256, 4, strides=2, padding='same')(x)\r\n",
        "x = layers.LeakyReLU()(x)\r\n",
        "\r\n",
        "# 합성곱 층을 더 추가합니다\r\n",
        "x = layers.Conv2D(256, 5, padding='same')(x)\r\n",
        "x = layers.LeakyReLU()(x)\r\n",
        "x = layers.Conv2D(256, 5, padding='same')(x)\r\n",
        "x = layers.LeakyReLU()(x)\r\n",
        "\r\n",
        "# 32 × 32 크기의 1개 채널을 가진 특성 맵을 생성합니다\r\n",
        "x = layers.Conv2D(channels, 7, activation='tanh', padding='same')(x)\r\n",
        "generator = keras.models.Model(generator_input, x)\r\n",
        "generator.summary()"
      ],
      "execution_count": null,
      "outputs": [
        {
          "output_type": "stream",
          "text": [
            "Model: \"model\"\n",
            "_________________________________________________________________\n",
            "Layer (type)                 Output Shape              Param #   \n",
            "=================================================================\n",
            "input_1 (InputLayer)         [(None, 32)]              0         \n",
            "_________________________________________________________________\n",
            "dense (Dense)                (None, 32768)             1081344   \n",
            "_________________________________________________________________\n",
            "leaky_re_lu (LeakyReLU)      (None, 32768)             0         \n",
            "_________________________________________________________________\n",
            "reshape (Reshape)            (None, 16, 16, 128)       0         \n",
            "_________________________________________________________________\n",
            "conv2d (Conv2D)              (None, 16, 16, 256)       819456    \n",
            "_________________________________________________________________\n",
            "leaky_re_lu_1 (LeakyReLU)    (None, 16, 16, 256)       0         \n",
            "_________________________________________________________________\n",
            "conv2d_transpose (Conv2DTran (None, 32, 32, 256)       1048832   \n",
            "_________________________________________________________________\n",
            "leaky_re_lu_2 (LeakyReLU)    (None, 32, 32, 256)       0         \n",
            "_________________________________________________________________\n",
            "conv2d_1 (Conv2D)            (None, 32, 32, 256)       1638656   \n",
            "_________________________________________________________________\n",
            "leaky_re_lu_3 (LeakyReLU)    (None, 32, 32, 256)       0         \n",
            "_________________________________________________________________\n",
            "conv2d_2 (Conv2D)            (None, 32, 32, 256)       1638656   \n",
            "_________________________________________________________________\n",
            "leaky_re_lu_4 (LeakyReLU)    (None, 32, 32, 256)       0         \n",
            "_________________________________________________________________\n",
            "conv2d_3 (Conv2D)            (None, 32, 32, 3)         37635     \n",
            "=================================================================\n",
            "Total params: 6,264,579\n",
            "Trainable params: 6,264,579\n",
            "Non-trainable params: 0\n",
            "_________________________________________________________________\n"
          ],
          "name": "stdout"
        }
      ]
    },
    {
      "cell_type": "code",
      "metadata": {
        "colab": {
          "base_uri": "https://localhost:8080/"
        },
        "id": "kGXJ0sRsDon1",
        "outputId": "0ee9ce08-106b-4082-ae95-51e6ad5732a5"
      },
      "source": [
        "discriminator_input = layers.Input(shape=(height, width, channels))\r\n",
        "x = layers.Conv2D(128, 3)(discriminator_input)\r\n",
        "x = layers.LeakyReLU()(x)\r\n",
        "x = layers.Conv2D(128, 4, strides=2)(x)\r\n",
        "x = layers.LeakyReLU()(x)\r\n",
        "x = layers.Conv2D(128, 4, strides=2)(x)\r\n",
        "x = layers.LeakyReLU()(x)\r\n",
        "x = layers.Conv2D(128, 4, strides=2)(x)\r\n",
        "x = layers.LeakyReLU()(x)\r\n",
        "x = layers.Flatten()(x)\r\n",
        "\r\n",
        "# 드롭아웃 층을 넣는 것이 아주 중요합니다!\r\n",
        "x = layers.Dropout(0.4)(x)\r\n",
        "\r\n",
        "# 분류 층\r\n",
        "x = layers.Dense(1, activation='sigmoid')(x)\r\n",
        "\r\n",
        "discriminator = keras.models.Model(discriminator_input, x)\r\n",
        "discriminator.summary()\r\n",
        "\r\n",
        "# 옵티마이저에서 (값을 지정하여) 그래디언트 클리핑을 사용합니다\r\n",
        "# 안정된 훈련을 위해서 학습률 감쇠를 사용합니다\r\n",
        "discriminator_optimizer = keras.optimizers.RMSprop(lr=0.0008, clipvalue=1.0, decay=1e-8)\r\n",
        "discriminator.compile(optimizer=discriminator_optimizer, loss='binary_crossentropy')"
      ],
      "execution_count": null,
      "outputs": [
        {
          "output_type": "stream",
          "text": [
            "Model: \"model_1\"\n",
            "_________________________________________________________________\n",
            "Layer (type)                 Output Shape              Param #   \n",
            "=================================================================\n",
            "input_2 (InputLayer)         [(None, 32, 32, 3)]       0         \n",
            "_________________________________________________________________\n",
            "conv2d_4 (Conv2D)            (None, 30, 30, 128)       3584      \n",
            "_________________________________________________________________\n",
            "leaky_re_lu_5 (LeakyReLU)    (None, 30, 30, 128)       0         \n",
            "_________________________________________________________________\n",
            "conv2d_5 (Conv2D)            (None, 14, 14, 128)       262272    \n",
            "_________________________________________________________________\n",
            "leaky_re_lu_6 (LeakyReLU)    (None, 14, 14, 128)       0         \n",
            "_________________________________________________________________\n",
            "conv2d_6 (Conv2D)            (None, 6, 6, 128)         262272    \n",
            "_________________________________________________________________\n",
            "leaky_re_lu_7 (LeakyReLU)    (None, 6, 6, 128)         0         \n",
            "_________________________________________________________________\n",
            "conv2d_7 (Conv2D)            (None, 2, 2, 128)         262272    \n",
            "_________________________________________________________________\n",
            "leaky_re_lu_8 (LeakyReLU)    (None, 2, 2, 128)         0         \n",
            "_________________________________________________________________\n",
            "flatten (Flatten)            (None, 512)               0         \n",
            "_________________________________________________________________\n",
            "dropout (Dropout)            (None, 512)               0         \n",
            "_________________________________________________________________\n",
            "dense_1 (Dense)              (None, 1)                 513       \n",
            "=================================================================\n",
            "Total params: 790,913\n",
            "Trainable params: 790,913\n",
            "Non-trainable params: 0\n",
            "_________________________________________________________________\n"
          ],
          "name": "stdout"
        }
      ]
    },
    {
      "cell_type": "code",
      "metadata": {
        "id": "vdnJURzJDold"
      },
      "source": [
        "# 판별자의 가중치가 훈련되지 않도록 설정합니다(gan 모델에만 적용됩니다)\r\n",
        "discriminator.trainable = False\r\n",
        "\r\n",
        "gan_input = keras.Input(shape=(latent_dim,))\r\n",
        "gan_output = discriminator(generator(gan_input))\r\n",
        "gan = keras.models.Model(gan_input, gan_output)\r\n",
        "\r\n",
        "gan_optimizer = keras.optimizers.RMSprop(lr=0.0004, clipvalue=1.0, decay=1e-8)\r\n",
        "gan.compile(optimizer=gan_optimizer, loss='binary_crossentropy')"
      ],
      "execution_count": null,
      "outputs": []
    },
    {
      "cell_type": "code",
      "metadata": {
        "id": "-sbORRhaD3qA"
      },
      "source": [
        "import os\r\n",
        "from keras.preprocessing import image"
      ],
      "execution_count": null,
      "outputs": []
    },
    {
      "cell_type": "code",
      "metadata": {
        "id": "s6vKNkE3FR8A"
      },
      "source": [
        "img_dir = '/content/content/MyDrive/Colab Notebooks/sai/10img.zip (Unzipped Files)'"
      ],
      "execution_count": null,
      "outputs": []
    },
    {
      "cell_type": "code",
      "metadata": {
        "id": "9HwMMRXXGR5t"
      },
      "source": [
        "from PIL import Image\r\n",
        "from numpy import asarray\r\n",
        "x_train = []"
      ],
      "execution_count": null,
      "outputs": []
    },
    {
      "cell_type": "code",
      "metadata": {
        "id": "tL11J74fGU5a"
      },
      "source": [
        "for i in os.listdir(img_dir):\r\n",
        "  # load the image\r\n",
        "  image = Image.open(os.path.join(img_dir, i))\r\n",
        "  # convert image to numpy array\r\n",
        "  data = asarray(image)\r\n",
        "  x_train.append(data)\r\n",
        "x_train= asarray(x_train)\r\n",
        "x_train = x_train/255."
      ],
      "execution_count": null,
      "outputs": []
    },
    {
      "cell_type": "code",
      "metadata": {
        "colab": {
          "base_uri": "https://localhost:8080/",
          "height": 35
        },
        "id": "GfOBeCO2eK5A",
        "outputId": "813c8bf3-434c-44b4-f4b2-cafd0977c23f"
      },
      "source": [
        "import keras\r\n",
        "keras.__version__"
      ],
      "execution_count": null,
      "outputs": [
        {
          "output_type": "execute_result",
          "data": {
            "application/vnd.google.colaboratory.intrinsic+json": {
              "type": "string"
            },
            "text/plain": [
              "'2.4.3'"
            ]
          },
          "metadata": {
            "tags": []
          },
          "execution_count": 14
        }
      ]
    },
    {
      "cell_type": "code",
      "metadata": {
        "id": "lhmVI7N1HIc4"
      },
      "source": [
        "x_train= asarray(x_train)"
      ],
      "execution_count": null,
      "outputs": []
    },
    {
      "cell_type": "code",
      "metadata": {
        "colab": {
          "base_uri": "https://localhost:8080/"
        },
        "id": "a8kBut5VHOSB",
        "outputId": "5728c174-4ebd-493f-92c5-72c64ffe55a8"
      },
      "source": [
        "x_train.shape"
      ],
      "execution_count": null,
      "outputs": [
        {
          "output_type": "execute_result",
          "data": {
            "text/plain": [
              "(504, 32, 32, 3)"
            ]
          },
          "metadata": {
            "tags": []
          },
          "execution_count": 11
        }
      ]
    },
    {
      "cell_type": "code",
      "metadata": {
        "id": "P2CF9EQND6wh"
      },
      "source": [
        "# 데이터를 정규화합니다\r\n",
        "x_train = x_train.reshape(\r\n",
        "    (x_train.shape[0],) + (height, width, channels)).astype('float32') / 255."
      ],
      "execution_count": null,
      "outputs": []
    },
    {
      "cell_type": "code",
      "metadata": {
        "colab": {
          "base_uri": "https://localhost:8080/"
        },
        "id": "i9SmubdhDohC",
        "outputId": "8fe7d9a0-5db8-46bf-c47a-6f5675d387b3"
      },
      "source": [
        "iterations = 100\r\n",
        "batch_size = 64\r\n",
        "save_dir = './gan_images/'\r\n",
        "if not os.path.exists(save_dir):\r\n",
        "    os.mkdir(save_dir)\r\n",
        "\r\n",
        "# 훈련 반복 시작\r\n",
        "start = 0\r\n",
        "for step in range(iterations):\r\n",
        "    # 잠재 공간에서 무작위로 포인트를 샘플링합니다\r\n",
        "    random_latent_vectors = np.random.normal(size=(batch_size, latent_dim))\r\n",
        "\r\n",
        "    # 가짜 이미지를 디코딩합니다\r\n",
        "    generated_images = generator.predict(random_latent_vectors)\r\n",
        "\r\n",
        "    # 진짜 이미지와 연결합니다\r\n",
        "    stop = start + batch_size\r\n",
        "    real_images = x_train[start: stop]\r\n",
        "    combined_images = np.concatenate([generated_images, real_images])\r\n",
        "\r\n",
        "    # 진짜와 가짜 이미지를 구분하여 레이블을 합칩니다\r\n",
        "    labels = np.concatenate([np.ones((batch_size, 1)),\r\n",
        "                             np.zeros((batch_size, 1))])\r\n",
        "    # 레이블에 랜덤 노이즈를 추가합니다. 아주 중요합니다!\r\n",
        "    labels += 0.05 * np.random.random(labels.shape)\r\n",
        "\r\n",
        "    # discriminator를 훈련합니다\r\n",
        "    d_loss = discriminator.train_on_batch(combined_images, labels)\r\n",
        "\r\n",
        "    # 잠재 공간에서 무작위로 포인트를 샘플링합니다\r\n",
        "    random_latent_vectors = np.random.normal(size=(batch_size, latent_dim))\r\n",
        "\r\n",
        "    # 모두 “진짜 이미지\"라고 레이블을 만듭니다\r\n",
        "    misleading_targets = np.zeros((batch_size, 1))\r\n",
        "\r\n",
        "    # generator를 훈련합니다(gan 모델에서 discriminator의 가중치는 동결됩니다)\r\n",
        "    a_loss = gan.train_on_batch(random_latent_vectors, misleading_targets)\r\n",
        "    \r\n",
        "    start += batch_size\r\n",
        "    if start > len(x_train) - batch_size:\r\n",
        "      start = 0\r\n",
        "\r\n",
        "    # 중간 중간 저장하고 그래프를 그립니다\r\n",
        "    if step % 10 == 0:\r\n",
        "        # 모델 가중치를 저장합니다\r\n",
        "        gan.save_weights('gan.h5')\r\n",
        "\r\n",
        "        # 측정 지표를 출력합니다\r\n",
        "        print('스텝 %s에서 판별자 손실: %s' % (step, d_loss))\r\n",
        "        print('스텝 %s에서 적대적 손실: %s' % (step, a_loss))\r\n",
        "\r\n",
        "        # 생성된 이미지 하나를 저장합니다\r\n",
        "        # img = image.array_to_img(generated_images[0] * 255., scale=False)\r\n",
        "        # img = generated_images[0] * 255.\r\n",
        "        img = Image.fromarray(generated_images[0] * 255., 'RGB')\r\n",
        "        img.save(os.path.join(save_dir, 'generated_img' + str(step) + '.png'))\r\n",
        "\r\n",
        "        # 비교를 위해 진짜 이미지 하나를 저장합니다\r\n",
        "        # img = image.array_to_img(real_images[0] * 255., scale=False)\r\n",
        "        # img = real_images[0] * 255.\r\n",
        "        img = Image.fromarray(real_images[0] * 255., 'RGB')\r\n",
        "        img.save(os.path.join(save_dir, 'real_img' + str(step) + '.png'))"
      ],
      "execution_count": null,
      "outputs": [
        {
          "output_type": "stream",
          "text": [
            "스텝 0에서 판별자 손실: 0.6918667554855347\n",
            "스텝 0에서 적대적 손실: 0.66827392578125\n",
            "스텝 10에서 판별자 손실: 0.6819419860839844\n",
            "스텝 10에서 적대적 손실: 0.8649263381958008\n",
            "스텝 20에서 판별자 손실: 0.5943122506141663\n",
            "스텝 20에서 적대적 손실: 4.014800071716309\n",
            "스텝 30에서 판별자 손실: 0.7129910588264465\n",
            "스텝 30에서 적대적 손실: 0.603651762008667\n",
            "스텝 40에서 판별자 손실: 0.6862527132034302\n",
            "스텝 40에서 적대적 손실: 0.7677250504493713\n",
            "스텝 50에서 판별자 손실: 0.7043185830116272\n",
            "스텝 50에서 적대적 손실: 0.8451831340789795\n",
            "스텝 60에서 판별자 손실: 0.6871731281280518\n",
            "스텝 60에서 적대적 손실: 0.815424382686615\n",
            "스텝 70에서 판별자 손실: 0.6809022426605225\n",
            "스텝 70에서 적대적 손실: 0.8036088943481445\n",
            "스텝 80에서 판별자 손실: 0.725641667842865\n",
            "스텝 80에서 적대적 손실: 1.0499374866485596\n",
            "스텝 90에서 판별자 손실: 0.6690715551376343\n",
            "스텝 90에서 적대적 손실: 1.0151737928390503\n"
          ],
          "name": "stdout"
        }
      ]
    },
    {
      "cell_type": "code",
      "metadata": {
        "colab": {
          "base_uri": "https://localhost:8080/"
        },
        "id": "bDSL8ObultjQ",
        "outputId": "719110cb-3832-4df1-fe34-d520cb0a6ebc"
      },
      "source": [
        "import time\r\n",
        "\r\n",
        "iterations = 1000\r\n",
        "batch_size = 64\r\n",
        "save_dir = './gan_images/'\r\n",
        "if not os.path.exists(save_dir):\r\n",
        "    os.mkdir(save_dir)\r\n",
        "\r\n",
        "# 훈련 반복 시작\r\n",
        "start = 0\r\n",
        "for step in range(iterations):\r\n",
        "    s = time.time()\r\n",
        "    # 잠재 공간에서 무작위로 포인트를 샘플링합니다\r\n",
        "    random_latent_vectors = np.random.normal(size=(batch_size, latent_dim))\r\n",
        "\r\n",
        "    # 가짜 이미지를 디코딩합니다\r\n",
        "    generated_images = generator.predict(random_latent_vectors)\r\n",
        "\r\n",
        "    # 진짜 이미지와 연결합니다\r\n",
        "    stop = start + batch_size\r\n",
        "    real_images = x_train[start: stop]\r\n",
        "    combined_images = np.concatenate([generated_images, real_images])\r\n",
        "\r\n",
        "    # 진짜와 가짜 이미지를 구분하여 레이블을 합칩니다\r\n",
        "    labels = np.concatenate([np.ones((batch_size, 1)),\r\n",
        "                             np.zeros((batch_size, 1))])\r\n",
        "    # 레이블에 랜덤 노이즈를 추가합니다. 아주 중요합니다!\r\n",
        "    labels += 0.05 * np.random.random(labels.shape)\r\n",
        "\r\n",
        "    # discriminator를 훈련합니다\r\n",
        "    d_loss = discriminator.train_on_batch(combined_images, labels)\r\n",
        "\r\n",
        "    # 잠재 공간에서 무작위로 포인트를 샘플링합니다\r\n",
        "    random_latent_vectors = np.random.normal(size=(batch_size, latent_dim))\r\n",
        "\r\n",
        "    # 모두 “진짜 이미지\"라고 레이블을 만듭니다\r\n",
        "    misleading_targets = np.zeros((batch_size, 1))\r\n",
        "\r\n",
        "    # generator를 훈련합니다(gan 모델에서 discriminator의 가중치는 동결됩니다)\r\n",
        "    a_loss = gan.train_on_batch(random_latent_vectors, misleading_targets)\r\n",
        "    \r\n",
        "    start += batch_size\r\n",
        "    if start > len(x_train) - batch_size:\r\n",
        "      start = 0\r\n",
        "\r\n",
        "    # 중간 중간 저장하고 그래프를 그립니다\r\n",
        "    if step % 100 == 0:\r\n",
        "        # 모델 가중치를 저장합니다\r\n",
        "        gan.save_weights('gan.h5')\r\n",
        "\r\n",
        "        # 측정 지표를 출력합니다\r\n",
        "        print('스텝 %s에서 판별자 손실: %s' % (step, d_loss))\r\n",
        "        print('스텝 %s에서 적대적 손실: %s' % (step, a_loss))\r\n",
        "\r\n",
        "        # 생성된 이미지 하나를 저장합니다\r\n",
        "        # img = image.array_to_img(generated_images[0] * 255., scale=False)\r\n",
        "        # img = generated_images[0] * 255.\r\n",
        "        img = Image.fromarray(generated_images[0] * 255., 'RGB')\r\n",
        "        img.save(os.path.join(save_dir, 'generated_img' + str(step) + '.png'))\r\n",
        "\r\n",
        "        # 비교를 위해 진짜 이미지 하나를 저장합니다\r\n",
        "        # img = image.array_to_img(real_images[0] * 255., scale=False)\r\n",
        "        # img = real_images[0] * 255.\r\n",
        "        img = Image.fromarray(real_images[0] * 255., 'RGB')\r\n",
        "        img.save(os.path.join(save_dir, 'real_img' + str(step) + '.png'))\r\n",
        "    e = time.time()\r\n",
        "    print('%d번째 소요시간: ' %step ,end='')\r\n",
        "    print(e-s)"
      ],
      "execution_count": null,
      "outputs": [
        {
          "output_type": "stream",
          "text": [
            "스텝 0에서 판별자 손실: 0.6842163801193237\n",
            "스텝 0에서 적대적 손실: 0.7664318084716797\n",
            "0번째 소요시간: 37.90692615509033\n",
            "1번째 소요시간: 38.30387353897095\n",
            "2번째 소요시간: 38.31021213531494\n",
            "3번째 소요시간: 38.031718492507935\n",
            "4번째 소요시간: 38.531421422958374\n",
            "5번째 소요시간: 38.028552293777466\n",
            "6번째 소요시간: 37.97904992103577\n",
            "7번째 소요시간: 38.01354765892029\n",
            "8번째 소요시간: 38.176384687423706\n",
            "9번째 소요시간: 37.90229320526123\n",
            "10번째 소요시간: 37.841352701187134\n",
            "11번째 소요시간: 37.7318069934845\n",
            "12번째 소요시간: 37.81803345680237\n",
            "13번째 소요시간: 37.48621678352356\n",
            "14번째 소요시간: 37.444746017456055\n",
            "15번째 소요시간: 37.50986123085022\n",
            "16번째 소요시간: 37.63456654548645\n",
            "17번째 소요시간: 38.83602237701416\n",
            "18번째 소요시간: 38.14484691619873\n",
            "19번째 소요시간: 38.01335287094116\n",
            "20번째 소요시간: 38.056427240371704\n",
            "21번째 소요시간: 37.483389377593994\n",
            "22번째 소요시간: 37.47182583808899\n",
            "23번째 소요시간: 37.440905809402466\n",
            "24번째 소요시간: 37.58780860900879\n",
            "25번째 소요시간: 37.661043643951416\n",
            "26번째 소요시간: 37.60299372673035\n",
            "27번째 소요시간: 37.49180030822754\n",
            "28번째 소요시간: 38.02420163154602\n",
            "29번째 소요시간: 38.16111731529236\n",
            "30번째 소요시간: 37.868892431259155\n",
            "31번째 소요시간: 37.78772163391113\n",
            "32번째 소요시간: 37.72445869445801\n",
            "33번째 소요시간: 37.299180030822754\n",
            "34번째 소요시간: 37.80052709579468\n",
            "35번째 소요시간: 37.25903630256653\n",
            "36번째 소요시간: 37.1271710395813\n",
            "37번째 소요시간: 37.92709517478943\n",
            "38번째 소요시간: 38.15130162239075\n",
            "39번째 소요시간: 37.656903982162476\n",
            "40번째 소요시간: 37.440213680267334\n",
            "41번째 소요시간: 37.61527872085571\n",
            "42번째 소요시간: 39.7008273601532\n",
            "43번째 소요시간: 37.8043155670166\n",
            "44번째 소요시간: 37.4971239566803\n",
            "45번째 소요시간: 37.57273626327515\n",
            "46번째 소요시간: 36.841835021972656\n",
            "47번째 소요시간: 37.24469804763794\n",
            "48번째 소요시간: 37.323461294174194\n",
            "49번째 소요시간: 37.19360661506653\n",
            "50번째 소요시간: 37.366063833236694\n",
            "51번째 소요시간: 37.25787115097046\n",
            "52번째 소요시간: 36.91383481025696\n",
            "53번째 소요시간: 37.2800977230072\n",
            "54번째 소요시간: 37.190558671951294\n",
            "55번째 소요시간: 37.52666258811951\n",
            "56번째 소요시간: 37.72234749794006\n",
            "57번째 소요시간: 37.161004304885864\n",
            "58번째 소요시간: 37.57048010826111\n",
            "59번째 소요시간: 37.032469749450684\n",
            "60번째 소요시간: 37.48434400558472\n",
            "61번째 소요시간: 37.83468294143677\n",
            "62번째 소요시간: 37.4176926612854\n",
            "63번째 소요시간: 38.028568267822266\n",
            "64번째 소요시간: 37.926069259643555\n",
            "65번째 소요시간: 37.624929428100586\n",
            "66번째 소요시간: 37.82913661003113\n",
            "67번째 소요시간: 37.29969620704651\n",
            "68번째 소요시간: 37.92377257347107\n",
            "69번째 소요시간: 38.04951786994934\n",
            "70번째 소요시간: 37.6288378238678\n",
            "71번째 소요시간: 38.09682559967041\n",
            "72번째 소요시간: 37.660025119781494\n",
            "73번째 소요시간: 37.638251304626465\n",
            "74번째 소요시간: 37.5594437122345\n",
            "75번째 소요시간: 37.494120836257935\n",
            "76번째 소요시간: 37.38145589828491\n",
            "77번째 소요시간: 37.55071473121643\n",
            "78번째 소요시간: 37.479979515075684\n",
            "79번째 소요시간: 37.354498624801636\n",
            "80번째 소요시간: 37.69553256034851\n",
            "81번째 소요시간: 37.8719642162323\n",
            "82번째 소요시간: 37.723634004592896\n",
            "83번째 소요시간: 38.02824115753174\n",
            "84번째 소요시간: 37.60853695869446\n",
            "85번째 소요시간: 37.70839500427246\n",
            "86번째 소요시간: 37.670735359191895\n",
            "87번째 소요시간: 37.90937638282776\n",
            "88번째 소요시간: 37.6343092918396\n",
            "89번째 소요시간: 37.556177854537964\n",
            "90번째 소요시간: 37.19619131088257\n",
            "91번째 소요시간: 37.878236532211304\n",
            "92번째 소요시간: 37.38867735862732\n",
            "93번째 소요시간: 37.77625107765198\n",
            "94번째 소요시간: 37.27452516555786\n",
            "95번째 소요시간: 37.54439043998718\n",
            "96번째 소요시간: 37.284631967544556\n",
            "97번째 소요시간: 37.06297993659973\n",
            "98번째 소요시간: 37.64853310585022\n",
            "99번째 소요시간: 37.228591442108154\n",
            "100번째 소요시간: 37.620362997055054\n",
            "101번째 소요시간: 37.593135356903076\n",
            "102번째 소요시간: 37.58087730407715\n",
            "103번째 소요시간: 36.528029918670654\n",
            "104번째 소요시간: 37.69582390785217\n",
            "105번째 소요시간: 37.479726791381836\n",
            "106번째 소요시간: 37.560856103897095\n",
            "107번째 소요시간: 37.74092197418213\n",
            "108번째 소요시간: 37.69023132324219\n",
            "109번째 소요시간: 37.71809220314026\n",
            "110번째 소요시간: 37.81190872192383\n",
            "111번째 소요시간: 37.21545124053955\n",
            "112번째 소요시간: 37.31900072097778\n",
            "113번째 소요시간: 37.44382858276367\n",
            "114번째 소요시간: 36.997153759002686\n",
            "115번째 소요시간: 37.246830224990845\n",
            "116번째 소요시간: 37.27314519882202\n",
            "117번째 소요시간: 37.61586308479309\n",
            "118번째 소요시간: 37.137436628341675\n",
            "119번째 소요시간: 37.70463180541992\n",
            "120번째 소요시간: 37.41395688056946\n",
            "121번째 소요시간: 37.40113925933838\n",
            "122번째 소요시간: 37.68198323249817\n",
            "123번째 소요시간: 37.3469762802124\n",
            "124번째 소요시간: 37.467209577560425\n",
            "125번째 소요시간: 37.73703050613403\n",
            "126번째 소요시간: 37.545167207717896\n",
            "127번째 소요시간: 37.353686571121216\n",
            "128번째 소요시간: 37.47294020652771\n",
            "129번째 소요시간: 37.63523626327515\n",
            "130번째 소요시간: 37.679622650146484\n",
            "131번째 소요시간: 36.75498628616333\n",
            "132번째 소요시간: 37.488399028778076\n",
            "133번째 소요시간: 37.303093910217285\n",
            "134번째 소요시간: 37.590023040771484\n",
            "135번째 소요시간: 37.16653084754944\n",
            "136번째 소요시간: 37.08664679527283\n",
            "137번째 소요시간: 40.13993740081787\n",
            "138번째 소요시간: 37.28496074676514\n",
            "139번째 소요시간: 37.6436083316803\n",
            "140번째 소요시간: 37.193262815475464\n",
            "141번째 소요시간: 36.77289319038391\n",
            "142번째 소요시간: 36.91083240509033\n",
            "143번째 소요시간: 37.15302085876465\n",
            "144번째 소요시간: 37.5194673538208\n",
            "145번째 소요시간: 37.64930295944214\n",
            "146번째 소요시간: 36.7401328086853\n",
            "147번째 소요시간: 37.17483305931091\n",
            "148번째 소요시간: 36.85252809524536\n",
            "149번째 소요시간: 37.1374351978302\n",
            "150번째 소요시간: 37.309471130371094\n",
            "151번째 소요시간: 37.21532082557678\n",
            "152번째 소요시간: 37.263060569763184\n",
            "153번째 소요시간: 37.03060865402222\n",
            "154번째 소요시간: 37.220300912857056\n",
            "155번째 소요시간: 37.43703889846802\n",
            "156번째 소요시간: 37.03360652923584\n",
            "157번째 소요시간: 37.24947762489319\n",
            "158번째 소요시간: 37.749207496643066\n",
            "159번째 소요시간: 37.43056106567383\n",
            "160번째 소요시간: 37.39511585235596\n",
            "161번째 소요시간: 37.50762963294983\n",
            "162번째 소요시간: 37.00747871398926\n",
            "163번째 소요시간: 36.93597364425659\n",
            "164번째 소요시간: 37.206268072128296\n",
            "165번째 소요시간: 37.57743859291077\n",
            "166번째 소요시간: 37.05072045326233\n",
            "167번째 소요시간: 37.41858959197998\n",
            "168번째 소요시간: 37.693236112594604\n",
            "169번째 소요시간: 37.73319721221924\n",
            "170번째 소요시간: 37.99534273147583\n",
            "171번째 소요시간: 37.493656158447266\n",
            "172번째 소요시간: 37.37670946121216\n",
            "173번째 소요시간: 37.69424605369568\n",
            "174번째 소요시간: 37.39153504371643\n",
            "175번째 소요시간: 37.2824432849884\n",
            "176번째 소요시간: 37.19730734825134\n",
            "177번째 소요시간: 37.56758761405945\n",
            "178번째 소요시간: 36.80308961868286\n",
            "179번째 소요시간: 37.544344663619995\n",
            "180번째 소요시간: 37.075990438461304\n",
            "181번째 소요시간: 37.253331422805786\n",
            "182번째 소요시간: 37.25543189048767\n",
            "183번째 소요시간: 36.63055944442749\n",
            "184번째 소요시간: 37.0453884601593\n",
            "185번째 소요시간: 37.175732374191284\n",
            "186번째 소요시간: 36.947526931762695\n",
            "187번째 소요시간: 36.8583505153656\n",
            "188번째 소요시간: 37.24062538146973\n",
            "189번째 소요시간: 37.192002296447754\n",
            "190번째 소요시간: 36.96197962760925\n",
            "191번째 소요시간: 37.49682855606079\n",
            "192번째 소요시간: 37.692208766937256\n",
            "193번째 소요시간: 37.52747893333435\n",
            "194번째 소요시간: 37.75292682647705\n",
            "195번째 소요시간: 37.215312242507935\n",
            "196번째 소요시간: 37.23201012611389\n",
            "197번째 소요시간: 37.03462076187134\n",
            "198번째 소요시간: 37.30466628074646\n",
            "199번째 소요시간: 37.372822761535645\n",
            "200번째 소요시간: 37.24234175682068\n",
            "201번째 소요시간: 37.38111758232117\n",
            "202번째 소요시간: 37.04893636703491\n",
            "203번째 소요시간: 37.6154363155365\n",
            "204번째 소요시간: 37.244423389434814\n",
            "205번째 소요시간: 37.365936279296875\n",
            "206번째 소요시간: 37.2128803730011\n",
            "207번째 소요시간: 36.94991707801819\n",
            "208번째 소요시간: 37.40204191207886\n",
            "209번째 소요시간: 37.355324268341064\n",
            "210번째 소요시간: 36.97219920158386\n",
            "211번째 소요시간: 37.60230755805969\n",
            "212번째 소요시간: 37.31540584564209\n",
            "213번째 소요시간: 37.36380386352539\n",
            "214번째 소요시간: 36.73045754432678\n",
            "215번째 소요시간: 37.24781036376953\n",
            "216번째 소요시간: 38.047112464904785\n",
            "217번째 소요시간: 37.68050265312195\n",
            "218번째 소요시간: 37.50043344497681\n",
            "219번째 소요시간: 37.6397750377655\n",
            "220번째 소요시간: 37.29903841018677\n",
            "221번째 소요시간: 37.86503195762634\n",
            "222번째 소요시간: 37.845202684402466\n",
            "223번째 소요시간: 36.74917984008789\n",
            "224번째 소요시간: 37.46632742881775\n",
            "225번째 소요시간: 37.00839567184448\n",
            "226번째 소요시간: 37.635873317718506\n",
            "227번째 소요시간: 37.590696811676025\n",
            "228번째 소요시간: 37.384549617767334\n",
            "229번째 소요시간: 37.5571653842926\n",
            "230번째 소요시간: 36.54847168922424\n",
            "231번째 소요시간: 37.31624984741211\n",
            "232번째 소요시간: 40.65192103385925\n",
            "233번째 소요시간: 37.554993867874146\n",
            "234번째 소요시간: 37.672088623046875\n",
            "235번째 소요시간: 36.78512120246887\n",
            "236번째 소요시간: 36.782551765441895\n",
            "237번째 소요시간: 37.02477550506592\n",
            "238번째 소요시간: 37.249500036239624\n",
            "239번째 소요시간: 37.75751805305481\n",
            "240번째 소요시간: 37.25118398666382\n",
            "241번째 소요시간: 37.61933660507202\n",
            "242번째 소요시간: 36.894628286361694\n",
            "243번째 소요시간: 37.049185037612915\n",
            "244번째 소요시간: 37.51613998413086\n",
            "245번째 소요시간: 37.05414819717407\n",
            "246번째 소요시간: 37.49558639526367\n",
            "247번째 소요시간: 36.88214302062988\n"
          ],
          "name": "stdout"
        }
      ]
    },
    {
      "cell_type": "code",
      "metadata": {
        "id": "wrKyEwJzDoe_"
      },
      "source": [
        "import matplotlib.pyplot as plt"
      ],
      "execution_count": null,
      "outputs": []
    },
    {
      "cell_type": "code",
      "metadata": {
        "id": "hqRibm9aDvLz"
      },
      "source": [
        "# 잠재 공간에서 랜덤한 포인트를 샘플링합니다\r\n",
        "random_latent_vectors = np.random.normal(size=(10, latent_dim))\r\n",
        "\r\n",
        "# 가짜 이미지로 디코딩합니다\r\n",
        "generated_images = generator.predict(random_latent_vectors)\r\n",
        "\r\n",
        "for i in range(generated_images.shape[0]):\r\n",
        "    img = image.array_to_img(generated_images[i] * 255., scale=False)\r\n",
        "    plt.figure()\r\n",
        "    plt.imshow(img)\r\n",
        "    \r\n",
        "plt.show()"
      ],
      "execution_count": null,
      "outputs": []
    }
  ]
}